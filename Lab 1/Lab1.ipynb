{
  "metadata": {
    "kernelspec": {
      "name": "python",
      "display_name": "Python (Pyodide)",
      "language": "python"
    },
    "language_info": {
      "codemirror_mode": {
        "name": "python",
        "version": 3
      },
      "file_extension": ".py",
      "mimetype": "text/x-python",
      "name": "python",
      "nbconvert_exporter": "python",
      "pygments_lexer": "ipython3",
      "version": "3.8"
    }
  },
  "nbformat_minor": 4,
  "nbformat": 4,
  "cells": [
    {
      "cell_type": "markdown",
      "source": "Лабораторна робота 1",
      "metadata": {}
    },
    {
      "cell_type": "markdown",
      "source": "1) На сайті http://www.ukrstat.gov.ua/ обрати дані які для Вас є цікавими, можна використати будь-який ресурс з відкритими даними, та завантажте дані.",
      "metadata": {}
    },
    {
      "cell_type": "code",
      "source": "import statistics",
      "metadata": {
        "trusted": true
      },
      "outputs": [],
      "execution_count": 1
    },
    {
      "cell_type": "code",
      "source": "avr_salary = [2250, 2648, 3041, 3282, 3480, 4195, 5183, 7104, 8865, 10497, 11591, 14014, 14847, 17442]",
      "metadata": {
        "trusted": true
      },
      "outputs": [],
      "execution_count": 2
    },
    {
      "cell_type": "markdown",
      "source": "Математичне сподівання, розраховане вручну:",
      "metadata": {}
    },
    {
      "cell_type": "code",
      "source": "print(sum(avr_salary) / len(avr_salary))",
      "metadata": {
        "trusted": true
      },
      "outputs": [
        {
          "name": "stdout",
          "text": "7745.642857142857\n",
          "output_type": "stream"
        }
      ],
      "execution_count": 3
    },
    {
      "cell_type": "markdown",
      "source": "Математичне сподівання (середнє з вибірки), медіана (значення посередині вибірки), мода (значення, що повторюється найчастіше), \nдисперсія (міра розсіяння (розкиду) числових даних у вибірці) та середньоквадратичне відхилення (корінь з дисперсії), \nрозраховані за допомогою модуля statistics:",
      "metadata": {}
    },
    {
      "cell_type": "code",
      "source": "print('Математичне сподівання:', statistics.mean(avr_salary))\nprint('Медіана:', statistics.median(avr_salary))\nprint('Мода:', statistics.mode(avr_salary))\nprint('Дисперсія:', statistics.pvariance(avr_salary))\nprint('Середньоквадратичне відхилення:', statistics.pstdev(avr_salary))",
      "metadata": {
        "trusted": true
      },
      "outputs": [
        {
          "name": "stdout",
          "text": "Математичне сподівання: 7745.642857142857\nМедіана: 6143.5\nМода: 2250\nДисперсія: 24527004.086734693\nСередньоквадратичне відхилення: 4952.474541755333\n",
          "output_type": "stream"
        }
      ],
      "execution_count": 4
    },
    {
      "cell_type": "code",
      "source": "import pandas as pd\nimport matplotlib\nimport matplotlib.pyplot as plt\nimport numpy as np",
      "metadata": {
        "trusted": true
      },
      "outputs": [],
      "execution_count": 5
    },
    {
      "cell_type": "code",
      "source": "fig, axs = plt.subplots(1, sharey=True, tight_layout=True)\naxs.hist(avr_salary, bins=len(avr_salary))",
      "metadata": {
        "trusted": true
      },
      "outputs": [
        {
          "execution_count": 6,
          "output_type": "execute_result",
          "data": {
            "text/plain": "(array([4., 2., 1., 0., 1., 0., 1., 1., 1., 0., 1., 1., 0., 1.]),\n array([ 2250.        ,  3335.14285714,  4420.28571429,  5505.42857143,\n         6590.57142857,  7675.71428571,  8760.85714286,  9846.        ,\n        10931.14285714, 12016.28571429, 13101.42857143, 14186.57142857,\n        15271.71428571, 16356.85714286, 17442.        ]),\n <BarContainer object of 14 artists>)"
          },
          "metadata": {}
        },
        {
          "output_type": "display_data",
          "data": {
            "text/plain": "<Figure size 640x480 with 1 Axes>",
            "image/png": "[encoded data removed]"
          },
          "metadata": {}
        }
      ],
      "execution_count": 6
    },
    {
      "cell_type": "code",
      "source": "avr_salary_series = pd.Series(avr_salary)",
      "metadata": {
        "trusted": true
      },
      "outputs": [],
      "execution_count": 7
    },
    {
      "cell_type": "markdown",
      "source": "Виведення колекції Series з індексами за замовчуванням:",
      "metadata": {}
    },
    {
      "cell_type": "code",
      "source": "avr_salary_series",
      "metadata": {
        "trusted": true
      },
      "outputs": [
        {
          "execution_count": 8,
          "output_type": "execute_result",
          "data": {
            "text/plain": "0      2250\n1      2648\n2      3041\n3      3282\n4      3480\n5      4195\n6      5183\n7      7104\n8      8865\n9     10497\n10    11591\n11    14014\n12    14847\n13    17442\ndtype: int64"
          },
          "metadata": {}
        }
      ],
      "execution_count": 8
    },
    {
      "cell_type": "markdown",
      "source": "Створення колекції Series з однаковими значеннями:",
      "metadata": {}
    },
    {
      "cell_type": "code",
      "source": "pd.Series(25, range(5))",
      "metadata": {
        "trusted": true
      },
      "outputs": [
        {
          "execution_count": 9,
          "output_type": "execute_result",
          "data": {
            "text/plain": "0    25\n1    25\n2    25\n3    25\n4    25\ndtype: int64"
          },
          "metadata": {}
        }
      ],
      "execution_count": 9
    },
    {
      "cell_type": "markdown",
      "source": "Звернення до елементів Series по індексу:",
      "metadata": {}
    },
    {
      "cell_type": "code",
      "source": "avr_salary_series[2]",
      "metadata": {
        "trusted": true
      },
      "outputs": [
        {
          "execution_count": 10,
          "output_type": "execute_result",
          "data": {
            "text/plain": "3041"
          },
          "metadata": {}
        }
      ],
      "execution_count": 10
    },
    {
      "cell_type": "markdown",
      "source": "Обчислення описових статистик для Series:",
      "metadata": {}
    },
    {
      "cell_type": "code",
      "source": "avr_salary_series.describe()",
      "metadata": {
        "trusted": true
      },
      "outputs": [
        {
          "execution_count": 11,
          "output_type": "execute_result",
          "data": {
            "text/plain": "count       14.000000\nmean      7745.642857\nstd       5139.425718\nmin       2250.000000\n25%       3331.500000\n50%       6143.500000\n75%      11317.500000\nmax      17442.000000\ndtype: float64"
          },
          "metadata": {}
        }
      ],
      "execution_count": 11
    },
    {
      "cell_type": "code",
      "source": "print(avr_salary_series.count())\nprint(avr_salary_series.mean())\nprint(avr_salary_series.std())\nprint(avr_salary_series.min())\nprint(avr_salary_series.max())",
      "metadata": {
        "trusted": true
      },
      "outputs": [
        {
          "name": "stdout",
          "text": "14\n7745.642857142857\n5139.425717800697\n2250\n17442\n",
          "output_type": "stream"
        }
      ],
      "execution_count": 12
    },
    {
      "cell_type": "markdown",
      "source": "Створення колекції Series з нестандартними індексами:",
      "metadata": {}
    },
    {
      "cell_type": "code",
      "source": "index = [2010, 2011, 2012, 2013, 2014, 2015, 2016, 2017, 2018, 2019, 2020, 2021, 2022, 2023]\navr_salary_with_year = pd.Series(avr_salary, index)",
      "metadata": {
        "trusted": true
      },
      "outputs": [],
      "execution_count": 13
    },
    {
      "cell_type": "code",
      "source": "avr_salary_with_year",
      "metadata": {
        "trusted": true
      },
      "outputs": [
        {
          "execution_count": 14,
          "output_type": "execute_result",
          "data": {
            "text/plain": "2010     2250\n2011     2648\n2012     3041\n2013     3282\n2014     3480\n2015     4195\n2016     5183\n2017     7104\n2018     8865\n2019    10497\n2020    11591\n2021    14014\n2022    14847\n2023    17442\ndtype: int64"
          },
          "metadata": {}
        }
      ],
      "execution_count": 14
    },
    {
      "cell_type": "markdown",
      "source": "Словники як ініціалізатор:",
      "metadata": {}
    },
    {
      "cell_type": "code",
      "source": "cars = pd.Series({'BMW': 2, 'Ford': 5, 'Audi': 1})",
      "metadata": {
        "trusted": true
      },
      "outputs": [],
      "execution_count": 15
    },
    {
      "cell_type": "code",
      "source": "cars",
      "metadata": {
        "trusted": true
      },
      "outputs": [
        {
          "execution_count": 16,
          "output_type": "execute_result",
          "data": {
            "text/plain": "BMW     2\nFord    5\nAudi    1\ndtype: int64"
          },
          "metadata": {}
        }
      ],
      "execution_count": 16
    },
    {
      "cell_type": "markdown",
      "source": "Звернення до елементів Series з використанням нестандартних \nіндексі:в",
      "metadata": {}
    },
    {
      "cell_type": "code",
      "source": "print(avr_salary_with_year[2011])\nprint(avr_salary_with_year.dtype)\nprint(avr_salary_with_year.values)",
      "metadata": {
        "trusted": true
      },
      "outputs": [
        {
          "name": "stdout",
          "text": "2648\nint64\n[ 2250  2648  3041  3282  3480  4195  5183  7104  8865 10497 11591 14014\n 14847 17442]\n",
          "output_type": "stream"
        }
      ],
      "execution_count": 17
    },
    {
      "cell_type": "markdown",
      "source": "Створення запитів на отримання вибірки із заданих занчень:",
      "metadata": {}
    },
    {
      "cell_type": "code",
      "source": "words = pd.Series(['Hello', 'world', 'Machine', 'learning'])",
      "metadata": {
        "trusted": true
      },
      "outputs": [],
      "execution_count": 18
    },
    {
      "cell_type": "code",
      "source": "words.str.contains('e')",
      "metadata": {
        "trusted": true
      },
      "outputs": [
        {
          "execution_count": 19,
          "output_type": "execute_result",
          "data": {
            "text/plain": "0     True\n1    False\n2     True\n3     True\ndtype: bool"
          },
          "metadata": {}
        }
      ],
      "execution_count": 19
    },
    {
      "cell_type": "code",
      "source": "words.str.lower()",
      "metadata": {
        "trusted": true
      },
      "outputs": [
        {
          "execution_count": 20,
          "output_type": "execute_result",
          "data": {
            "text/plain": "0       hello\n1       world\n2     machine\n3    learning\ndtype: object"
          },
          "metadata": {}
        }
      ],
      "execution_count": 20
    },
    {
      "cell_type": "code",
      "source": "words.str.upper()",
      "metadata": {
        "trusted": true
      },
      "outputs": [
        {
          "execution_count": 21,
          "output_type": "execute_result",
          "data": {
            "text/plain": "0       HELLO\n1       WORLD\n2     MACHINE\n3    LEARNING\ndtype: object"
          },
          "metadata": {}
        }
      ],
      "execution_count": 21
    },
    {
      "cell_type": "markdown",
      "source": "Створення DataFrame на базі словника, що представляє заробітні плати по роках в сферах сільського господарства, промисловості та будівництва:",
      "metadata": {}
    },
    {
      "cell_type": "code",
      "source": "avr_salary_dict = {2010 : [1422, 2578, 1777], 2011 : [1786, 3119, 2294], 2012 : [2024, 3497, 2543], 2013 : [2269, 3774, 2727],\n                   2014 : [2476, 3988, 2860], 2015 : [3140, 4789, 3551], 2016 : [3916, 5902, 4731], 2017 : [5761, 7631, 6251], \n                   2018 : [7166, 9633, 7845], 2019 : [8738, 11788, 9356], 2020 : [9734, 12759, 9832], 2021 : [11733, 14902, 11289], \n                   2022 : [12243, 15176, 9781], 2023 : [14184, 18390, 12634]}\navr_salary_dataframe = pd.DataFrame(avr_salary_dict)\navr_salary_dataframe",
      "metadata": {
        "trusted": true
      },
      "outputs": [
        {
          "execution_count": 22,
          "output_type": "execute_result",
          "data": {
            "text/plain": "   2010  2011  2012  2013  2014  2015  2016  2017  2018   2019   2020   2021  \\\n0  1422  1786  2024  2269  2476  3140  3916  5761  7166   8738   9734  11733   \n1  2578  3119  3497  3774  3988  4789  5902  7631  9633  11788  12759  14902   \n2  1777  2294  2543  2727  2860  3551  4731  6251  7845   9356   9832  11289   \n\n    2022   2023  \n0  12243  14184  \n1  15176  18390  \n2   9781  12634  ",
            "text/html": "<div>\n<style scoped>\n    .dataframe tbody tr th:only-of-type {\n        vertical-align: middle;\n    }\n\n    .dataframe tbody tr th {\n        vertical-align: top;\n    }\n\n    .dataframe thead th {\n        text-align: right;\n    }\n</style>\n<table border=\"1\" class=\"dataframe\">\n  <thead>\n    <tr style=\"text-align: right;\">\n      <th></th>\n      <th>2010</th>\n      <th>2011</th>\n      <th>2012</th>\n      <th>2013</th>\n      <th>2014</th>\n      <th>2015</th>\n      <th>2016</th>\n      <th>2017</th>\n      <th>2018</th>\n      <th>2019</th>\n      <th>2020</th>\n      <th>2021</th>\n      <th>2022</th>\n      <th>2023</th>\n    </tr>\n  </thead>\n  <tbody>\n    <tr>\n      <th>0</th>\n      <td>1422</td>\n      <td>1786</td>\n      <td>2024</td>\n      <td>2269</td>\n      <td>2476</td>\n      <td>3140</td>\n      <td>3916</td>\n      <td>5761</td>\n      <td>7166</td>\n      <td>8738</td>\n      <td>9734</td>\n      <td>11733</td>\n      <td>12243</td>\n      <td>14184</td>\n    </tr>\n    <tr>\n      <th>1</th>\n      <td>2578</td>\n      <td>3119</td>\n      <td>3497</td>\n      <td>3774</td>\n      <td>3988</td>\n      <td>4789</td>\n      <td>5902</td>\n      <td>7631</td>\n      <td>9633</td>\n      <td>11788</td>\n      <td>12759</td>\n      <td>14902</td>\n      <td>15176</td>\n      <td>18390</td>\n    </tr>\n    <tr>\n      <th>2</th>\n      <td>1777</td>\n      <td>2294</td>\n      <td>2543</td>\n      <td>2727</td>\n      <td>2860</td>\n      <td>3551</td>\n      <td>4731</td>\n      <td>6251</td>\n      <td>7845</td>\n      <td>9356</td>\n      <td>9832</td>\n      <td>11289</td>\n      <td>9781</td>\n      <td>12634</td>\n    </tr>\n  </tbody>\n</table>\n</div>"
          },
          "metadata": {}
        }
      ],
      "execution_count": 22
    },
    {
      "cell_type": "markdown",
      "source": "Налаштування індексів DataFrame з використанням атрибута index:",
      "metadata": {}
    },
    {
      "cell_type": "code",
      "source": "avr_salary_dataframe.index = ['Сільське господарство', 'Промисловість', 'Будівництво']\navr_salary_dataframe",
      "metadata": {
        "trusted": true
      },
      "outputs": [
        {
          "execution_count": 23,
          "output_type": "execute_result",
          "data": {
            "text/plain": "                       2010  2011  2012  2013  2014  2015  2016  2017  2018  \\\nСільське господарство  1422  1786  2024  2269  2476  3140  3916  5761  7166   \nПромисловість          2578  3119  3497  3774  3988  4789  5902  7631  9633   \nБудівництво            1777  2294  2543  2727  2860  3551  4731  6251  7845   \n\n                        2019   2020   2021   2022   2023  \nСільське господарство   8738   9734  11733  12243  14184  \nПромисловість          11788  12759  14902  15176  18390  \nБудівництво             9356   9832  11289   9781  12634  ",
            "text/html": "<div>\n<style scoped>\n    .dataframe tbody tr th:only-of-type {\n        vertical-align: middle;\n    }\n\n    .dataframe tbody tr th {\n        vertical-align: top;\n    }\n\n    .dataframe thead th {\n        text-align: right;\n    }\n</style>\n<table border=\"1\" class=\"dataframe\">\n  <thead>\n    <tr style=\"text-align: right;\">\n      <th></th>\n      <th>2010</th>\n      <th>2011</th>\n      <th>2012</th>\n      <th>2013</th>\n      <th>2014</th>\n      <th>2015</th>\n      <th>2016</th>\n      <th>2017</th>\n      <th>2018</th>\n      <th>2019</th>\n      <th>2020</th>\n      <th>2021</th>\n      <th>2022</th>\n      <th>2023</th>\n    </tr>\n  </thead>\n  <tbody>\n    <tr>\n      <th>Сільське господарство</th>\n      <td>1422</td>\n      <td>1786</td>\n      <td>2024</td>\n      <td>2269</td>\n      <td>2476</td>\n      <td>3140</td>\n      <td>3916</td>\n      <td>5761</td>\n      <td>7166</td>\n      <td>8738</td>\n      <td>9734</td>\n      <td>11733</td>\n      <td>12243</td>\n      <td>14184</td>\n    </tr>\n    <tr>\n      <th>Промисловість</th>\n      <td>2578</td>\n      <td>3119</td>\n      <td>3497</td>\n      <td>3774</td>\n      <td>3988</td>\n      <td>4789</td>\n      <td>5902</td>\n      <td>7631</td>\n      <td>9633</td>\n      <td>11788</td>\n      <td>12759</td>\n      <td>14902</td>\n      <td>15176</td>\n      <td>18390</td>\n    </tr>\n    <tr>\n      <th>Будівництво</th>\n      <td>1777</td>\n      <td>2294</td>\n      <td>2543</td>\n      <td>2727</td>\n      <td>2860</td>\n      <td>3551</td>\n      <td>4731</td>\n      <td>6251</td>\n      <td>7845</td>\n      <td>9356</td>\n      <td>9832</td>\n      <td>11289</td>\n      <td>9781</td>\n      <td>12634</td>\n    </tr>\n  </tbody>\n</table>\n</div>"
          },
          "metadata": {}
        }
      ],
      "execution_count": 23
    },
    {
      "cell_type": "markdown",
      "source": "Звернення до стовпців DataFrame:",
      "metadata": {}
    },
    {
      "cell_type": "code",
      "source": "avr_salary_dataframe[2020]",
      "metadata": {
        "trusted": true
      },
      "outputs": [
        {
          "execution_count": 24,
          "output_type": "execute_result",
          "data": {
            "text/plain": "Сільське господарство     9734\nПромисловість            12759\nБудівництво               9832\nName: 2020, dtype: int64"
          },
          "metadata": {}
        }
      ],
      "execution_count": 24
    },
    {
      "cell_type": "markdown",
      "source": "Вибір рядків з використанням атрибутів loc і iloc:",
      "metadata": {}
    },
    {
      "cell_type": "code",
      "source": "avr_salary_dataframe.loc['Промисловість']",
      "metadata": {
        "trusted": true
      },
      "outputs": [
        {
          "execution_count": 25,
          "output_type": "execute_result",
          "data": {
            "text/plain": "2010     2578\n2011     3119\n2012     3497\n2013     3774\n2014     3988\n2015     4789\n2016     5902\n2017     7631\n2018     9633\n2019    11788\n2020    12759\n2021    14902\n2022    15176\n2023    18390\nName: Промисловість, dtype: int64"
          },
          "metadata": {}
        }
      ],
      "execution_count": 25
    },
    {
      "cell_type": "code",
      "source": "avr_salary_dataframe.iloc[1]",
      "metadata": {
        "trusted": true
      },
      "outputs": [
        {
          "execution_count": 26,
          "output_type": "execute_result",
          "data": {
            "text/plain": "2010     2578\n2011     3119\n2012     3497\n2013     3774\n2014     3988\n2015     4789\n2016     5902\n2017     7631\n2018     9633\n2019    11788\n2020    12759\n2021    14902\n2022    15176\n2023    18390\nName: Промисловість, dtype: int64"
          },
          "metadata": {}
        }
      ],
      "execution_count": 26
    },
    {
      "cell_type": "markdown",
      "source": "Вибір підмножин рядків і стовпців:",
      "metadata": {}
    },
    {
      "cell_type": "code",
      "source": "avr_salary_dataframe.loc['Сільське господарство' : 'Промисловість', [2013, 2014, 2015, 2016, 2017]]",
      "metadata": {
        "trusted": true
      },
      "outputs": [
        {
          "execution_count": 27,
          "output_type": "execute_result",
          "data": {
            "text/plain": "                       2013  2014  2015  2016  2017\nСільське господарство  2269  2476  3140  3916  5761\nПромисловість          3774  3988  4789  5902  7631",
            "text/html": "<div>\n<style scoped>\n    .dataframe tbody tr th:only-of-type {\n        vertical-align: middle;\n    }\n\n    .dataframe tbody tr th {\n        vertical-align: top;\n    }\n\n    .dataframe thead th {\n        text-align: right;\n    }\n</style>\n<table border=\"1\" class=\"dataframe\">\n  <thead>\n    <tr style=\"text-align: right;\">\n      <th></th>\n      <th>2013</th>\n      <th>2014</th>\n      <th>2015</th>\n      <th>2016</th>\n      <th>2017</th>\n    </tr>\n  </thead>\n  <tbody>\n    <tr>\n      <th>Сільське господарство</th>\n      <td>2269</td>\n      <td>2476</td>\n      <td>3140</td>\n      <td>3916</td>\n      <td>5761</td>\n    </tr>\n    <tr>\n      <th>Промисловість</th>\n      <td>3774</td>\n      <td>3988</td>\n      <td>4789</td>\n      <td>5902</td>\n      <td>7631</td>\n    </tr>\n  </tbody>\n</table>\n</div>"
          },
          "metadata": {}
        }
      ],
      "execution_count": 27
    },
    {
      "cell_type": "code",
      "source": "avr_salary_dataframe.iloc[[0, 2], 1 : 5]",
      "metadata": {
        "trusted": true
      },
      "outputs": [
        {
          "execution_count": 28,
          "output_type": "execute_result",
          "data": {
            "text/plain": "                       2011  2012  2013  2014\nСільське господарство  1786  2024  2269  2476\nБудівництво            2294  2543  2727  2860",
            "text/html": "<div>\n<style scoped>\n    .dataframe tbody tr th:only-of-type {\n        vertical-align: middle;\n    }\n\n    .dataframe tbody tr th {\n        vertical-align: top;\n    }\n\n    .dataframe thead th {\n        text-align: right;\n    }\n</style>\n<table border=\"1\" class=\"dataframe\">\n  <thead>\n    <tr style=\"text-align: right;\">\n      <th></th>\n      <th>2011</th>\n      <th>2012</th>\n      <th>2013</th>\n      <th>2014</th>\n    </tr>\n  </thead>\n  <tbody>\n    <tr>\n      <th>Сільське господарство</th>\n      <td>1786</td>\n      <td>2024</td>\n      <td>2269</td>\n      <td>2476</td>\n    </tr>\n    <tr>\n      <th>Будівництво</th>\n      <td>2294</td>\n      <td>2543</td>\n      <td>2727</td>\n      <td>2860</td>\n    </tr>\n  </tbody>\n</table>\n</div>"
          },
          "metadata": {}
        }
      ],
      "execution_count": 28
    },
    {
      "cell_type": "markdown",
      "source": "Логічне індексування:",
      "metadata": {}
    },
    {
      "cell_type": "code",
      "source": "avr_salary_dataframe[(avr_salary_dataframe < 8000) & (avr_salary_dataframe > 4000)]",
      "metadata": {
        "trusted": true
      },
      "outputs": [
        {
          "execution_count": 29,
          "output_type": "execute_result",
          "data": {
            "text/plain": "                       2010  2011  2012  2013  2014    2015    2016  2017  \\\nСільське господарство   NaN   NaN   NaN   NaN   NaN     NaN     NaN  5761   \nПромисловість           NaN   NaN   NaN   NaN   NaN  4789.0  5902.0  7631   \nБудівництво             NaN   NaN   NaN   NaN   NaN     NaN  4731.0  6251   \n\n                         2018  2019  2020  2021  2022  2023  \nСільське господарство  7166.0   NaN   NaN   NaN   NaN   NaN  \nПромисловість             NaN   NaN   NaN   NaN   NaN   NaN  \nБудівництво            7845.0   NaN   NaN   NaN   NaN   NaN  ",
            "text/html": "<div>\n<style scoped>\n    .dataframe tbody tr th:only-of-type {\n        vertical-align: middle;\n    }\n\n    .dataframe tbody tr th {\n        vertical-align: top;\n    }\n\n    .dataframe thead th {\n        text-align: right;\n    }\n</style>\n<table border=\"1\" class=\"dataframe\">\n  <thead>\n    <tr style=\"text-align: right;\">\n      <th></th>\n      <th>2010</th>\n      <th>2011</th>\n      <th>2012</th>\n      <th>2013</th>\n      <th>2014</th>\n      <th>2015</th>\n      <th>2016</th>\n      <th>2017</th>\n      <th>2018</th>\n      <th>2019</th>\n      <th>2020</th>\n      <th>2021</th>\n      <th>2022</th>\n      <th>2023</th>\n    </tr>\n  </thead>\n  <tbody>\n    <tr>\n      <th>Сільське господарство</th>\n      <td>NaN</td>\n      <td>NaN</td>\n      <td>NaN</td>\n      <td>NaN</td>\n      <td>NaN</td>\n      <td>NaN</td>\n      <td>NaN</td>\n      <td>5761</td>\n      <td>7166.0</td>\n      <td>NaN</td>\n      <td>NaN</td>\n      <td>NaN</td>\n      <td>NaN</td>\n      <td>NaN</td>\n    </tr>\n    <tr>\n      <th>Промисловість</th>\n      <td>NaN</td>\n      <td>NaN</td>\n      <td>NaN</td>\n      <td>NaN</td>\n      <td>NaN</td>\n      <td>4789.0</td>\n      <td>5902.0</td>\n      <td>7631</td>\n      <td>NaN</td>\n      <td>NaN</td>\n      <td>NaN</td>\n      <td>NaN</td>\n      <td>NaN</td>\n      <td>NaN</td>\n    </tr>\n    <tr>\n      <th>Будівництво</th>\n      <td>NaN</td>\n      <td>NaN</td>\n      <td>NaN</td>\n      <td>NaN</td>\n      <td>NaN</td>\n      <td>NaN</td>\n      <td>4731.0</td>\n      <td>6251</td>\n      <td>7845.0</td>\n      <td>NaN</td>\n      <td>NaN</td>\n      <td>NaN</td>\n      <td>NaN</td>\n      <td>NaN</td>\n    </tr>\n  </tbody>\n</table>\n</div>"
          },
          "metadata": {}
        }
      ],
      "execution_count": 29
    },
    {
      "cell_type": "markdown",
      "source": "Звернення до конкретного осередку DataFrame по рядку і \nстовпц:ю",
      "metadata": {}
    },
    {
      "cell_type": "code",
      "source": "avr_salary_dataframe.at['Сільське господарство', 2017]",
      "metadata": {
        "trusted": true
      },
      "outputs": [
        {
          "execution_count": 30,
          "output_type": "execute_result",
          "data": {
            "text/plain": "5761"
          },
          "metadata": {}
        }
      ],
      "execution_count": 30
    },
    {
      "cell_type": "code",
      "source": "avr_salary_dataframe.iat[1, 5]",
      "metadata": {
        "trusted": true
      },
      "outputs": [
        {
          "execution_count": 31,
          "output_type": "execute_result",
          "data": {
            "text/plain": "4789"
          },
          "metadata": {}
        }
      ],
      "execution_count": 31
    },
    {
      "cell_type": "code",
      "source": "avr_salary_dataframe.at['Сільське господарство', 2017] = 10000\navr_salary_dataframe.at['Сільське господарство', 2017]",
      "metadata": {
        "trusted": true
      },
      "outputs": [
        {
          "execution_count": 32,
          "output_type": "execute_result",
          "data": {
            "text/plain": "10000"
          },
          "metadata": {}
        }
      ],
      "execution_count": 32
    },
    {
      "cell_type": "code",
      "source": "avr_salary_dataframe.iat[0, 7] = 5761\navr_salary_dataframe.iat[0, 7]",
      "metadata": {
        "trusted": true
      },
      "outputs": [
        {
          "execution_count": 33,
          "output_type": "execute_result",
          "data": {
            "text/plain": "5761"
          },
          "metadata": {}
        }
      ],
      "execution_count": 33
    },
    {
      "cell_type": "markdown",
      "source": "Описова статистика:",
      "metadata": {}
    },
    {
      "cell_type": "code",
      "source": "avr_salary_dataframe.describe()",
      "metadata": {
        "trusted": true
      },
      "outputs": [
        {
          "execution_count": 34,
          "output_type": "execute_result",
          "data": {
            "text/plain": "              2010         2011         2012         2013         2014  \\\ncount     3.000000     3.000000     3.000000     3.000000     3.000000   \nmean   1925.666667  2399.666667  2688.000000  2923.333333  3108.000000   \nstd     592.165799   672.752803   747.128503   771.470241   785.916026   \nmin    1422.000000  1786.000000  2024.000000  2269.000000  2476.000000   \n25%    1599.500000  2040.000000  2283.500000  2498.000000  2668.000000   \n50%    1777.000000  2294.000000  2543.000000  2727.000000  2860.000000   \n75%    2177.500000  2706.500000  3020.000000  3250.500000  3424.000000   \nmax    2578.000000  3119.000000  3497.000000  3774.000000  3988.000000   \n\n              2015         2016         2017         2018          2019  \\\ncount     3.000000     3.000000     3.000000     3.000000      3.000000   \nmean   3826.666667  4849.666667  6547.666667  8214.666667   9960.666667   \nstd     858.367249   998.303728   969.656296  1274.367425   1612.402348   \nmin    3140.000000  3916.000000  5761.000000  7166.000000   8738.000000   \n25%    3345.500000  4323.500000  6006.000000  7505.500000   9047.000000   \n50%    3551.000000  4731.000000  6251.000000  7845.000000   9356.000000   \n75%    4170.000000  5316.500000  6941.000000  8739.000000  10572.000000   \nmax    4789.000000  5902.000000  7631.000000  9633.000000  11788.000000   \n\n               2020          2021          2022          2023  \ncount      3.000000      3.000000      3.000000      3.000000  \nmean   10775.000000  12641.333333  12400.000000  15069.333333  \nstd     1718.892958   1970.341172   2700.924471   2978.379649  \nmin     9734.000000  11289.000000   9781.000000  12634.000000  \n25%     9783.000000  11511.000000  11012.000000  13409.000000  \n50%     9832.000000  11733.000000  12243.000000  14184.000000  \n75%    11295.500000  13317.500000  13709.500000  16287.000000  \nmax    12759.000000  14902.000000  15176.000000  18390.000000  ",
            "text/html": "<div>\n<style scoped>\n    .dataframe tbody tr th:only-of-type {\n        vertical-align: middle;\n    }\n\n    .dataframe tbody tr th {\n        vertical-align: top;\n    }\n\n    .dataframe thead th {\n        text-align: right;\n    }\n</style>\n<table border=\"1\" class=\"dataframe\">\n  <thead>\n    <tr style=\"text-align: right;\">\n      <th></th>\n      <th>2010</th>\n      <th>2011</th>\n      <th>2012</th>\n      <th>2013</th>\n      <th>2014</th>\n      <th>2015</th>\n      <th>2016</th>\n      <th>2017</th>\n      <th>2018</th>\n      <th>2019</th>\n      <th>2020</th>\n      <th>2021</th>\n      <th>2022</th>\n      <th>2023</th>\n    </tr>\n  </thead>\n  <tbody>\n    <tr>\n      <th>count</th>\n      <td>3.000000</td>\n      <td>3.000000</td>\n      <td>3.000000</td>\n      <td>3.000000</td>\n      <td>3.000000</td>\n      <td>3.000000</td>\n      <td>3.000000</td>\n      <td>3.000000</td>\n      <td>3.000000</td>\n      <td>3.000000</td>\n      <td>3.000000</td>\n      <td>3.000000</td>\n      <td>3.000000</td>\n      <td>3.000000</td>\n    </tr>\n    <tr>\n      <th>mean</th>\n      <td>1925.666667</td>\n      <td>2399.666667</td>\n      <td>2688.000000</td>\n      <td>2923.333333</td>\n      <td>3108.000000</td>\n      <td>3826.666667</td>\n      <td>4849.666667</td>\n      <td>6547.666667</td>\n      <td>8214.666667</td>\n      <td>9960.666667</td>\n      <td>10775.000000</td>\n      <td>12641.333333</td>\n      <td>12400.000000</td>\n      <td>15069.333333</td>\n    </tr>\n    <tr>\n      <th>std</th>\n      <td>592.165799</td>\n      <td>672.752803</td>\n      <td>747.128503</td>\n      <td>771.470241</td>\n      <td>785.916026</td>\n      <td>858.367249</td>\n      <td>998.303728</td>\n      <td>969.656296</td>\n      <td>1274.367425</td>\n      <td>1612.402348</td>\n      <td>1718.892958</td>\n      <td>1970.341172</td>\n      <td>2700.924471</td>\n      <td>2978.379649</td>\n    </tr>\n    <tr>\n      <th>min</th>\n      <td>1422.000000</td>\n      <td>1786.000000</td>\n      <td>2024.000000</td>\n      <td>2269.000000</td>\n      <td>2476.000000</td>\n      <td>3140.000000</td>\n      <td>3916.000000</td>\n      <td>5761.000000</td>\n      <td>7166.000000</td>\n      <td>8738.000000</td>\n      <td>9734.000000</td>\n      <td>11289.000000</td>\n      <td>9781.000000</td>\n      <td>12634.000000</td>\n    </tr>\n    <tr>\n      <th>25%</th>\n      <td>1599.500000</td>\n      <td>2040.000000</td>\n      <td>2283.500000</td>\n      <td>2498.000000</td>\n      <td>2668.000000</td>\n      <td>3345.500000</td>\n      <td>4323.500000</td>\n      <td>6006.000000</td>\n      <td>7505.500000</td>\n      <td>9047.000000</td>\n      <td>9783.000000</td>\n      <td>11511.000000</td>\n      <td>11012.000000</td>\n      <td>13409.000000</td>\n    </tr>\n    <tr>\n      <th>50%</th>\n      <td>1777.000000</td>\n      <td>2294.000000</td>\n      <td>2543.000000</td>\n      <td>2727.000000</td>\n      <td>2860.000000</td>\n      <td>3551.000000</td>\n      <td>4731.000000</td>\n      <td>6251.000000</td>\n      <td>7845.000000</td>\n      <td>9356.000000</td>\n      <td>9832.000000</td>\n      <td>11733.000000</td>\n      <td>12243.000000</td>\n      <td>14184.000000</td>\n    </tr>\n    <tr>\n      <th>75%</th>\n      <td>2177.500000</td>\n      <td>2706.500000</td>\n      <td>3020.000000</td>\n      <td>3250.500000</td>\n      <td>3424.000000</td>\n      <td>4170.000000</td>\n      <td>5316.500000</td>\n      <td>6941.000000</td>\n      <td>8739.000000</td>\n      <td>10572.000000</td>\n      <td>11295.500000</td>\n      <td>13317.500000</td>\n      <td>13709.500000</td>\n      <td>16287.000000</td>\n    </tr>\n    <tr>\n      <th>max</th>\n      <td>2578.000000</td>\n      <td>3119.000000</td>\n      <td>3497.000000</td>\n      <td>3774.000000</td>\n      <td>3988.000000</td>\n      <td>4789.000000</td>\n      <td>5902.000000</td>\n      <td>7631.000000</td>\n      <td>9633.000000</td>\n      <td>11788.000000</td>\n      <td>12759.000000</td>\n      <td>14902.000000</td>\n      <td>15176.000000</td>\n      <td>18390.000000</td>\n    </tr>\n  </tbody>\n</table>\n</div>"
          },
          "metadata": {}
        }
      ],
      "execution_count": 34
    },
    {
      "cell_type": "code",
      "source": "avr_salary_dataframe.mean()",
      "metadata": {
        "trusted": true
      },
      "outputs": [
        {
          "execution_count": 35,
          "output_type": "execute_result",
          "data": {
            "text/plain": "2010     1925.666667\n2011     2399.666667\n2012     2688.000000\n2013     2923.333333\n2014     3108.000000\n2015     3826.666667\n2016     4849.666667\n2017     6547.666667\n2018     8214.666667\n2019     9960.666667\n2020    10775.000000\n2021    12641.333333\n2022    12400.000000\n2023    15069.333333\ndtype: float64"
          },
          "metadata": {}
        }
      ],
      "execution_count": 35
    },
    {
      "cell_type": "markdown",
      "source": "Транспонування DataFrame з використанням атрибута T:",
      "metadata": {}
    },
    {
      "cell_type": "code",
      "source": "avr_salary_dataframe.T",
      "metadata": {
        "trusted": true
      },
      "outputs": [
        {
          "execution_count": 36,
          "output_type": "execute_result",
          "data": {
            "text/plain": "      Сільське господарство  Промисловість  Будівництво\n2010                   1422           2578         1777\n2011                   1786           3119         2294\n2012                   2024           3497         2543\n2013                   2269           3774         2727\n2014                   2476           3988         2860\n2015                   3140           4789         3551\n2016                   3916           5902         4731\n2017                   5761           7631         6251\n2018                   7166           9633         7845\n2019                   8738          11788         9356\n2020                   9734          12759         9832\n2021                  11733          14902        11289\n2022                  12243          15176         9781\n2023                  14184          18390        12634",
            "text/html": "<div>\n<style scoped>\n    .dataframe tbody tr th:only-of-type {\n        vertical-align: middle;\n    }\n\n    .dataframe tbody tr th {\n        vertical-align: top;\n    }\n\n    .dataframe thead th {\n        text-align: right;\n    }\n</style>\n<table border=\"1\" class=\"dataframe\">\n  <thead>\n    <tr style=\"text-align: right;\">\n      <th></th>\n      <th>Сільське господарство</th>\n      <th>Промисловість</th>\n      <th>Будівництво</th>\n    </tr>\n  </thead>\n  <tbody>\n    <tr>\n      <th>2010</th>\n      <td>1422</td>\n      <td>2578</td>\n      <td>1777</td>\n    </tr>\n    <tr>\n      <th>2011</th>\n      <td>1786</td>\n      <td>3119</td>\n      <td>2294</td>\n    </tr>\n    <tr>\n      <th>2012</th>\n      <td>2024</td>\n      <td>3497</td>\n      <td>2543</td>\n    </tr>\n    <tr>\n      <th>2013</th>\n      <td>2269</td>\n      <td>3774</td>\n      <td>2727</td>\n    </tr>\n    <tr>\n      <th>2014</th>\n      <td>2476</td>\n      <td>3988</td>\n      <td>2860</td>\n    </tr>\n    <tr>\n      <th>2015</th>\n      <td>3140</td>\n      <td>4789</td>\n      <td>3551</td>\n    </tr>\n    <tr>\n      <th>2016</th>\n      <td>3916</td>\n      <td>5902</td>\n      <td>4731</td>\n    </tr>\n    <tr>\n      <th>2017</th>\n      <td>5761</td>\n      <td>7631</td>\n      <td>6251</td>\n    </tr>\n    <tr>\n      <th>2018</th>\n      <td>7166</td>\n      <td>9633</td>\n      <td>7845</td>\n    </tr>\n    <tr>\n      <th>2019</th>\n      <td>8738</td>\n      <td>11788</td>\n      <td>9356</td>\n    </tr>\n    <tr>\n      <th>2020</th>\n      <td>9734</td>\n      <td>12759</td>\n      <td>9832</td>\n    </tr>\n    <tr>\n      <th>2021</th>\n      <td>11733</td>\n      <td>14902</td>\n      <td>11289</td>\n    </tr>\n    <tr>\n      <th>2022</th>\n      <td>12243</td>\n      <td>15176</td>\n      <td>9781</td>\n    </tr>\n    <tr>\n      <th>2023</th>\n      <td>14184</td>\n      <td>18390</td>\n      <td>12634</td>\n    </tr>\n  </tbody>\n</table>\n</div>"
          },
          "metadata": {}
        }
      ],
      "execution_count": 36
    },
    {
      "cell_type": "code",
      "source": "avr_salary_dataframe.T.describe()",
      "metadata": {
        "trusted": true
      },
      "outputs": [
        {
          "execution_count": 37,
          "output_type": "execute_result",
          "data": {
            "text/plain": "       Сільське господарство  Промисловість   Будівництво\ncount              14.000000      14.000000     14.000000\nmean             6185.142857    8423.285714   6247.928571\nstd              4425.298162    5309.952650   3787.956308\nmin              1422.000000    2578.000000   1777.000000\n25%              2320.750000    3827.500000   2760.250000\n50%              4838.500000    6766.500000   5491.000000\n75%              9485.000000   12516.250000   9674.750000\nmax             14184.000000   18390.000000  12634.000000",
            "text/html": "<div>\n<style scoped>\n    .dataframe tbody tr th:only-of-type {\n        vertical-align: middle;\n    }\n\n    .dataframe tbody tr th {\n        vertical-align: top;\n    }\n\n    .dataframe thead th {\n        text-align: right;\n    }\n</style>\n<table border=\"1\" class=\"dataframe\">\n  <thead>\n    <tr style=\"text-align: right;\">\n      <th></th>\n      <th>Сільське господарство</th>\n      <th>Промисловість</th>\n      <th>Будівництво</th>\n    </tr>\n  </thead>\n  <tbody>\n    <tr>\n      <th>count</th>\n      <td>14.000000</td>\n      <td>14.000000</td>\n      <td>14.000000</td>\n    </tr>\n    <tr>\n      <th>mean</th>\n      <td>6185.142857</td>\n      <td>8423.285714</td>\n      <td>6247.928571</td>\n    </tr>\n    <tr>\n      <th>std</th>\n      <td>4425.298162</td>\n      <td>5309.952650</td>\n      <td>3787.956308</td>\n    </tr>\n    <tr>\n      <th>min</th>\n      <td>1422.000000</td>\n      <td>2578.000000</td>\n      <td>1777.000000</td>\n    </tr>\n    <tr>\n      <th>25%</th>\n      <td>2320.750000</td>\n      <td>3827.500000</td>\n      <td>2760.250000</td>\n    </tr>\n    <tr>\n      <th>50%</th>\n      <td>4838.500000</td>\n      <td>6766.500000</td>\n      <td>5491.000000</td>\n    </tr>\n    <tr>\n      <th>75%</th>\n      <td>9485.000000</td>\n      <td>12516.250000</td>\n      <td>9674.750000</td>\n    </tr>\n    <tr>\n      <th>max</th>\n      <td>14184.000000</td>\n      <td>18390.000000</td>\n      <td>12634.000000</td>\n    </tr>\n  </tbody>\n</table>\n</div>"
          },
          "metadata": {}
        }
      ],
      "execution_count": 37
    },
    {
      "cell_type": "code",
      "source": "avr_salary_dataframe.T.mean()",
      "metadata": {
        "trusted": true
      },
      "outputs": [
        {
          "execution_count": 38,
          "output_type": "execute_result",
          "data": {
            "text/plain": "Сільське господарство    6185.142857\nПромисловість            8423.285714\nБудівництво              6247.928571\ndtype: float64"
          },
          "metadata": {}
        }
      ],
      "execution_count": 38
    },
    {
      "cell_type": "markdown",
      "source": "Сортування рядків за індексами:",
      "metadata": {}
    },
    {
      "cell_type": "code",
      "source": "avr_salary_dataframe.sort_index()",
      "metadata": {
        "trusted": true
      },
      "outputs": [
        {
          "execution_count": 39,
          "output_type": "execute_result",
          "data": {
            "text/plain": "                       2010  2011  2012  2013  2014  2015  2016  2017  2018  \\\nБудівництво            1777  2294  2543  2727  2860  3551  4731  6251  7845   \nПромисловість          2578  3119  3497  3774  3988  4789  5902  7631  9633   \nСільське господарство  1422  1786  2024  2269  2476  3140  3916  5761  7166   \n\n                        2019   2020   2021   2022   2023  \nБудівництво             9356   9832  11289   9781  12634  \nПромисловість          11788  12759  14902  15176  18390  \nСільське господарство   8738   9734  11733  12243  14184  ",
            "text/html": "<div>\n<style scoped>\n    .dataframe tbody tr th:only-of-type {\n        vertical-align: middle;\n    }\n\n    .dataframe tbody tr th {\n        vertical-align: top;\n    }\n\n    .dataframe thead th {\n        text-align: right;\n    }\n</style>\n<table border=\"1\" class=\"dataframe\">\n  <thead>\n    <tr style=\"text-align: right;\">\n      <th></th>\n      <th>2010</th>\n      <th>2011</th>\n      <th>2012</th>\n      <th>2013</th>\n      <th>2014</th>\n      <th>2015</th>\n      <th>2016</th>\n      <th>2017</th>\n      <th>2018</th>\n      <th>2019</th>\n      <th>2020</th>\n      <th>2021</th>\n      <th>2022</th>\n      <th>2023</th>\n    </tr>\n  </thead>\n  <tbody>\n    <tr>\n      <th>Будівництво</th>\n      <td>1777</td>\n      <td>2294</td>\n      <td>2543</td>\n      <td>2727</td>\n      <td>2860</td>\n      <td>3551</td>\n      <td>4731</td>\n      <td>6251</td>\n      <td>7845</td>\n      <td>9356</td>\n      <td>9832</td>\n      <td>11289</td>\n      <td>9781</td>\n      <td>12634</td>\n    </tr>\n    <tr>\n      <th>Промисловість</th>\n      <td>2578</td>\n      <td>3119</td>\n      <td>3497</td>\n      <td>3774</td>\n      <td>3988</td>\n      <td>4789</td>\n      <td>5902</td>\n      <td>7631</td>\n      <td>9633</td>\n      <td>11788</td>\n      <td>12759</td>\n      <td>14902</td>\n      <td>15176</td>\n      <td>18390</td>\n    </tr>\n    <tr>\n      <th>Сільське господарство</th>\n      <td>1422</td>\n      <td>1786</td>\n      <td>2024</td>\n      <td>2269</td>\n      <td>2476</td>\n      <td>3140</td>\n      <td>3916</td>\n      <td>5761</td>\n      <td>7166</td>\n      <td>8738</td>\n      <td>9734</td>\n      <td>11733</td>\n      <td>12243</td>\n      <td>14184</td>\n    </tr>\n  </tbody>\n</table>\n</div>"
          },
          "metadata": {}
        }
      ],
      "execution_count": 39
    },
    {
      "cell_type": "markdown",
      "source": "Сортування за індексами стовпців:",
      "metadata": {}
    },
    {
      "cell_type": "code",
      "source": "avr_salary_dataframe.sort_index(axis=1, ascending=False)",
      "metadata": {
        "trusted": true
      },
      "outputs": [
        {
          "execution_count": 40,
          "output_type": "execute_result",
          "data": {
            "text/plain": "                        2023   2022   2021   2020   2019  2018  2017  2016  \\\nСільське господарство  14184  12243  11733   9734   8738  7166  5761  3916   \nПромисловість          18390  15176  14902  12759  11788  9633  7631  5902   \nБудівництво            12634   9781  11289   9832   9356  7845  6251  4731   \n\n                       2015  2014  2013  2012  2011  2010  \nСільське господарство  3140  2476  2269  2024  1786  1422  \nПромисловість          4789  3988  3774  3497  3119  2578  \nБудівництво            3551  2860  2727  2543  2294  1777  ",
            "text/html": "<div>\n<style scoped>\n    .dataframe tbody tr th:only-of-type {\n        vertical-align: middle;\n    }\n\n    .dataframe tbody tr th {\n        vertical-align: top;\n    }\n\n    .dataframe thead th {\n        text-align: right;\n    }\n</style>\n<table border=\"1\" class=\"dataframe\">\n  <thead>\n    <tr style=\"text-align: right;\">\n      <th></th>\n      <th>2023</th>\n      <th>2022</th>\n      <th>2021</th>\n      <th>2020</th>\n      <th>2019</th>\n      <th>2018</th>\n      <th>2017</th>\n      <th>2016</th>\n      <th>2015</th>\n      <th>2014</th>\n      <th>2013</th>\n      <th>2012</th>\n      <th>2011</th>\n      <th>2010</th>\n    </tr>\n  </thead>\n  <tbody>\n    <tr>\n      <th>Сільське господарство</th>\n      <td>14184</td>\n      <td>12243</td>\n      <td>11733</td>\n      <td>9734</td>\n      <td>8738</td>\n      <td>7166</td>\n      <td>5761</td>\n      <td>3916</td>\n      <td>3140</td>\n      <td>2476</td>\n      <td>2269</td>\n      <td>2024</td>\n      <td>1786</td>\n      <td>1422</td>\n    </tr>\n    <tr>\n      <th>Промисловість</th>\n      <td>18390</td>\n      <td>15176</td>\n      <td>14902</td>\n      <td>12759</td>\n      <td>11788</td>\n      <td>9633</td>\n      <td>7631</td>\n      <td>5902</td>\n      <td>4789</td>\n      <td>3988</td>\n      <td>3774</td>\n      <td>3497</td>\n      <td>3119</td>\n      <td>2578</td>\n    </tr>\n    <tr>\n      <th>Будівництво</th>\n      <td>12634</td>\n      <td>9781</td>\n      <td>11289</td>\n      <td>9832</td>\n      <td>9356</td>\n      <td>7845</td>\n      <td>6251</td>\n      <td>4731</td>\n      <td>3551</td>\n      <td>2860</td>\n      <td>2727</td>\n      <td>2543</td>\n      <td>2294</td>\n      <td>1777</td>\n    </tr>\n  </tbody>\n</table>\n</div>"
          },
          "metadata": {}
        }
      ],
      "execution_count": 40
    },
    {
      "cell_type": "markdown",
      "source": "Сортування за значеннями стовпців:",
      "metadata": {}
    },
    {
      "cell_type": "code",
      "source": "avr_salary_dataframe.sort_values(by='Будівництво', axis=1, ascending=False)",
      "metadata": {
        "trusted": true
      },
      "outputs": [
        {
          "execution_count": 41,
          "output_type": "execute_result",
          "data": {
            "text/plain": "                        2023   2021   2020   2022   2019  2018  2017  2016  \\\nСільське господарство  14184  11733   9734  12243   8738  7166  5761  3916   \nПромисловість          18390  14902  12759  15176  11788  9633  7631  5902   \nБудівництво            12634  11289   9832   9781   9356  7845  6251  4731   \n\n                       2015  2014  2013  2012  2011  2010  \nСільське господарство  3140  2476  2269  2024  1786  1422  \nПромисловість          4789  3988  3774  3497  3119  2578  \nБудівництво            3551  2860  2727  2543  2294  1777  ",
            "text/html": "<div>\n<style scoped>\n    .dataframe tbody tr th:only-of-type {\n        vertical-align: middle;\n    }\n\n    .dataframe tbody tr th {\n        vertical-align: top;\n    }\n\n    .dataframe thead th {\n        text-align: right;\n    }\n</style>\n<table border=\"1\" class=\"dataframe\">\n  <thead>\n    <tr style=\"text-align: right;\">\n      <th></th>\n      <th>2023</th>\n      <th>2021</th>\n      <th>2020</th>\n      <th>2022</th>\n      <th>2019</th>\n      <th>2018</th>\n      <th>2017</th>\n      <th>2016</th>\n      <th>2015</th>\n      <th>2014</th>\n      <th>2013</th>\n      <th>2012</th>\n      <th>2011</th>\n      <th>2010</th>\n    </tr>\n  </thead>\n  <tbody>\n    <tr>\n      <th>Сільське господарство</th>\n      <td>14184</td>\n      <td>11733</td>\n      <td>9734</td>\n      <td>12243</td>\n      <td>8738</td>\n      <td>7166</td>\n      <td>5761</td>\n      <td>3916</td>\n      <td>3140</td>\n      <td>2476</td>\n      <td>2269</td>\n      <td>2024</td>\n      <td>1786</td>\n      <td>1422</td>\n    </tr>\n    <tr>\n      <th>Промисловість</th>\n      <td>18390</td>\n      <td>14902</td>\n      <td>12759</td>\n      <td>15176</td>\n      <td>11788</td>\n      <td>9633</td>\n      <td>7631</td>\n      <td>5902</td>\n      <td>4789</td>\n      <td>3988</td>\n      <td>3774</td>\n      <td>3497</td>\n      <td>3119</td>\n      <td>2578</td>\n    </tr>\n    <tr>\n      <th>Будівництво</th>\n      <td>12634</td>\n      <td>11289</td>\n      <td>9832</td>\n      <td>9781</td>\n      <td>9356</td>\n      <td>7845</td>\n      <td>6251</td>\n      <td>4731</td>\n      <td>3551</td>\n      <td>2860</td>\n      <td>2727</td>\n      <td>2543</td>\n      <td>2294</td>\n      <td>1777</td>\n    </tr>\n  </tbody>\n</table>\n</div>"
          },
          "metadata": {}
        }
      ],
      "execution_count": 41
    },
    {
      "cell_type": "markdown",
      "source": "Візьмемо середні заробітні плати в 2023 році у працівників декількох різних сфер (певні дані введемо некоректно):",
      "metadata": {}
    },
    {
      "cell_type": "code",
      "source": "avr_2023 = pd.Series({'Сільське господарство 2023' : 14184, 'Промисловість 2023' : 18390, 'Будівництво 2023' : 12634, \n                      'Торгівля 2023' : 20630, 'Транспорт 2025' : 0})",
      "metadata": {
        "trusted": true
      },
      "outputs": [],
      "execution_count": 58
    },
    {
      "cell_type": "markdown",
      "source": "Очищення даних:",
      "metadata": {}
    },
    {
      "cell_type": "code",
      "source": "avr_2023.iat[4] = int(round(avr_2023.iloc[0 : 3].mean()))\navr_2023",
      "metadata": {
        "trusted": true
      },
      "outputs": [
        {
          "execution_count": 59,
          "output_type": "execute_result",
          "data": {
            "text/plain": "Сільське господарство 2023    14184\nПромисловість 2023            18390\nБудівництво 2023              12634\nТоргівля 2023                 20630\nТранспорт 2025                15069\ndtype: int64"
          },
          "metadata": {}
        }
      ],
      "execution_count": 59
    },
    {
      "cell_type": "markdown",
      "source": "Перевірка даних:",
      "metadata": {}
    },
    {
      "cell_type": "code",
      "source": "avr_2023_index = pd.Series(avr_2023.index)\navr_2023_index.str.contains(r' 2023')",
      "metadata": {
        "trusted": true
      },
      "outputs": [
        {
          "execution_count": 61,
          "output_type": "execute_result",
          "data": {
            "text/plain": "0     True\n1     True\n2     True\n3     True\n4    False\ndtype: bool"
          },
          "metadata": {}
        }
      ],
      "execution_count": 61
    },
    {
      "cell_type": "markdown",
      "source": "Створюємо DataFrame:",
      "metadata": {}
    },
    {
      "cell_type": "code",
      "source": "avr_2023_data = [['Сільське господарство', 14184, '28.12.2023'], ['Промисловість', 18390, '27.12.2023'], ['Будівництво', 12634, '29.12.2023'], \n                 ['Торгівля', 20630, '30.12.2023'], ['Транспорт', 17184, '26.12.2023']]\navr_2023_dataframe = pd.DataFrame(avr_2023_data, columns=['Area', 'Salary', 'Fixation date'])\navr_2023_dataframe",
      "metadata": {
        "trusted": true
      },
      "outputs": [
        {
          "execution_count": 64,
          "output_type": "execute_result",
          "data": {
            "text/plain": "                    Area  Salary Fixation date\n0  Сільське господарство   14184    28.12.2023\n1          Промисловість   18390    27.12.2023\n2            Будівництво   12634    29.12.2023\n3               Торгівля   20630    30.12.2023\n4              Транспорт   17184    26.12.2023",
            "text/html": "<div>\n<style scoped>\n    .dataframe tbody tr th:only-of-type {\n        vertical-align: middle;\n    }\n\n    .dataframe tbody tr th {\n        vertical-align: top;\n    }\n\n    .dataframe thead th {\n        text-align: right;\n    }\n</style>\n<table border=\"1\" class=\"dataframe\">\n  <thead>\n    <tr style=\"text-align: right;\">\n      <th></th>\n      <th>Area</th>\n      <th>Salary</th>\n      <th>Fixation date</th>\n    </tr>\n  </thead>\n  <tbody>\n    <tr>\n      <th>0</th>\n      <td>Сільське господарство</td>\n      <td>14184</td>\n      <td>28.12.2023</td>\n    </tr>\n    <tr>\n      <th>1</th>\n      <td>Промисловість</td>\n      <td>18390</td>\n      <td>27.12.2023</td>\n    </tr>\n    <tr>\n      <th>2</th>\n      <td>Будівництво</td>\n      <td>12634</td>\n      <td>29.12.2023</td>\n    </tr>\n    <tr>\n      <th>3</th>\n      <td>Торгівля</td>\n      <td>20630</td>\n      <td>30.12.2023</td>\n    </tr>\n    <tr>\n      <th>4</th>\n      <td>Транспорт</td>\n      <td>17184</td>\n      <td>26.12.2023</td>\n    </tr>\n  </tbody>\n</table>\n</div>"
          },
          "metadata": {}
        }
      ],
      "execution_count": 64
    },
    {
      "cell_type": "markdown",
      "source": "Переформатування даних:",
      "metadata": {}
    },
    {
      "cell_type": "code",
      "source": "import re\n\ndef format(value):\n    result = re.fullmatch(r'(\\d{2})\\.(\\d{2})\\.(\\d{4})', value)\n    return '-'.join(result.groups()) if result else value\n\nfix_dates = avr_2023_dataframe['Fixation date'].map(format)\nfix_dates",
      "metadata": {
        "trusted": true
      },
      "outputs": [
        {
          "execution_count": 67,
          "output_type": "execute_result",
          "data": {
            "text/plain": "0    28-12-2023\n1    27-12-2023\n2    29-12-2023\n3    30-12-2023\n4    26-12-2023\nName: Fixation date, dtype: object"
          },
          "metadata": {}
        }
      ],
      "execution_count": 67
    },
    {
      "cell_type": "markdown",
      "source": "Дані катастрофи Титаніка:",
      "metadata": {}
    },
    {
      "cell_type": "code",
      "source": "titanic = pd.read_csv('TitanicSurvival.csv', delimiter = ',')\ntitanic",
      "metadata": {
        "trusted": true
      },
      "outputs": [
        {
          "execution_count": 68,
          "output_type": "execute_result",
          "data": {
            "text/plain": "                             rownames survived     sex      age passengerClass\n0       Allen, Miss. Elisabeth Walton      yes  female  29.0000            1st\n1      Allison, Master. Hudson Trevor      yes    male   0.9167            1st\n2        Allison, Miss. Helen Loraine       no  female   2.0000            1st\n3     Allison, Mr. Hudson Joshua Crei       no    male  30.0000            1st\n4     Allison, Mrs. Hudson J C (Bessi       no  female  25.0000            1st\n...                               ...      ...     ...      ...            ...\n1304             Zabour, Miss. Hileni       no  female  14.5000            3rd\n1305            Zabour, Miss. Thamine       no  female      NaN            3rd\n1306        Zakarian, Mr. Mapriededer       no    male  26.5000            3rd\n1307              Zakarian, Mr. Ortin       no    male  27.0000            3rd\n1308               Zimmerman, Mr. Leo       no    male  29.0000            3rd\n\n[1309 rows x 5 columns]",
            "text/html": "<div>\n<style scoped>\n    .dataframe tbody tr th:only-of-type {\n        vertical-align: middle;\n    }\n\n    .dataframe tbody tr th {\n        vertical-align: top;\n    }\n\n    .dataframe thead th {\n        text-align: right;\n    }\n</style>\n<table border=\"1\" class=\"dataframe\">\n  <thead>\n    <tr style=\"text-align: right;\">\n      <th></th>\n      <th>rownames</th>\n      <th>survived</th>\n      <th>sex</th>\n      <th>age</th>\n      <th>passengerClass</th>\n    </tr>\n  </thead>\n  <tbody>\n    <tr>\n      <th>0</th>\n      <td>Allen, Miss. Elisabeth Walton</td>\n      <td>yes</td>\n      <td>female</td>\n      <td>29.0000</td>\n      <td>1st</td>\n    </tr>\n    <tr>\n      <th>1</th>\n      <td>Allison, Master. Hudson Trevor</td>\n      <td>yes</td>\n      <td>male</td>\n      <td>0.9167</td>\n      <td>1st</td>\n    </tr>\n    <tr>\n      <th>2</th>\n      <td>Allison, Miss. Helen Loraine</td>\n      <td>no</td>\n      <td>female</td>\n      <td>2.0000</td>\n      <td>1st</td>\n    </tr>\n    <tr>\n      <th>3</th>\n      <td>Allison, Mr. Hudson Joshua Crei</td>\n      <td>no</td>\n      <td>male</td>\n      <td>30.0000</td>\n      <td>1st</td>\n    </tr>\n    <tr>\n      <th>4</th>\n      <td>Allison, Mrs. Hudson J C (Bessi</td>\n      <td>no</td>\n      <td>female</td>\n      <td>25.0000</td>\n      <td>1st</td>\n    </tr>\n    <tr>\n      <th>...</th>\n      <td>...</td>\n      <td>...</td>\n      <td>...</td>\n      <td>...</td>\n      <td>...</td>\n    </tr>\n    <tr>\n      <th>1304</th>\n      <td>Zabour, Miss. Hileni</td>\n      <td>no</td>\n      <td>female</td>\n      <td>14.5000</td>\n      <td>3rd</td>\n    </tr>\n    <tr>\n      <th>1305</th>\n      <td>Zabour, Miss. Thamine</td>\n      <td>no</td>\n      <td>female</td>\n      <td>NaN</td>\n      <td>3rd</td>\n    </tr>\n    <tr>\n      <th>1306</th>\n      <td>Zakarian, Mr. Mapriededer</td>\n      <td>no</td>\n      <td>male</td>\n      <td>26.5000</td>\n      <td>3rd</td>\n    </tr>\n    <tr>\n      <th>1307</th>\n      <td>Zakarian, Mr. Ortin</td>\n      <td>no</td>\n      <td>male</td>\n      <td>27.0000</td>\n      <td>3rd</td>\n    </tr>\n    <tr>\n      <th>1308</th>\n      <td>Zimmerman, Mr. Leo</td>\n      <td>no</td>\n      <td>male</td>\n      <td>29.0000</td>\n      <td>3rd</td>\n    </tr>\n  </tbody>\n</table>\n<p>1309 rows × 5 columns</p>\n</div>"
          },
          "metadata": {}
        }
      ],
      "execution_count": 68
    },
    {
      "cell_type": "code",
      "source": "pd.set_option('display.precision', 2)\ntitanic.head(8)",
      "metadata": {
        "trusted": true
      },
      "outputs": [
        {
          "execution_count": 69,
          "output_type": "execute_result",
          "data": {
            "text/plain": "                          rownames survived     sex    age passengerClass\n0    Allen, Miss. Elisabeth Walton      yes  female  29.00            1st\n1   Allison, Master. Hudson Trevor      yes    male   0.92            1st\n2     Allison, Miss. Helen Loraine       no  female   2.00            1st\n3  Allison, Mr. Hudson Joshua Crei       no    male  30.00            1st\n4  Allison, Mrs. Hudson J C (Bessi       no  female  25.00            1st\n5              Anderson, Mr. Harry      yes    male  48.00            1st\n6  Andrews, Miss. Kornelia Theodos      yes  female  63.00            1st\n7           Andrews, Mr. Thomas Jr       no    male  39.00            1st",
            "text/html": "<div>\n<style scoped>\n    .dataframe tbody tr th:only-of-type {\n        vertical-align: middle;\n    }\n\n    .dataframe tbody tr th {\n        vertical-align: top;\n    }\n\n    .dataframe thead th {\n        text-align: right;\n    }\n</style>\n<table border=\"1\" class=\"dataframe\">\n  <thead>\n    <tr style=\"text-align: right;\">\n      <th></th>\n      <th>rownames</th>\n      <th>survived</th>\n      <th>sex</th>\n      <th>age</th>\n      <th>passengerClass</th>\n    </tr>\n  </thead>\n  <tbody>\n    <tr>\n      <th>0</th>\n      <td>Allen, Miss. Elisabeth Walton</td>\n      <td>yes</td>\n      <td>female</td>\n      <td>29.00</td>\n      <td>1st</td>\n    </tr>\n    <tr>\n      <th>1</th>\n      <td>Allison, Master. Hudson Trevor</td>\n      <td>yes</td>\n      <td>male</td>\n      <td>0.92</td>\n      <td>1st</td>\n    </tr>\n    <tr>\n      <th>2</th>\n      <td>Allison, Miss. Helen Loraine</td>\n      <td>no</td>\n      <td>female</td>\n      <td>2.00</td>\n      <td>1st</td>\n    </tr>\n    <tr>\n      <th>3</th>\n      <td>Allison, Mr. Hudson Joshua Crei</td>\n      <td>no</td>\n      <td>male</td>\n      <td>30.00</td>\n      <td>1st</td>\n    </tr>\n    <tr>\n      <th>4</th>\n      <td>Allison, Mrs. Hudson J C (Bessi</td>\n      <td>no</td>\n      <td>female</td>\n      <td>25.00</td>\n      <td>1st</td>\n    </tr>\n    <tr>\n      <th>5</th>\n      <td>Anderson, Mr. Harry</td>\n      <td>yes</td>\n      <td>male</td>\n      <td>48.00</td>\n      <td>1st</td>\n    </tr>\n    <tr>\n      <th>6</th>\n      <td>Andrews, Miss. Kornelia Theodos</td>\n      <td>yes</td>\n      <td>female</td>\n      <td>63.00</td>\n      <td>1st</td>\n    </tr>\n    <tr>\n      <th>7</th>\n      <td>Andrews, Mr. Thomas Jr</td>\n      <td>no</td>\n      <td>male</td>\n      <td>39.00</td>\n      <td>1st</td>\n    </tr>\n  </tbody>\n</table>\n</div>"
          },
          "metadata": {}
        }
      ],
      "execution_count": 69
    },
    {
      "cell_type": "code",
      "source": "titanic.tail(7)",
      "metadata": {
        "trusted": true
      },
      "outputs": [
        {
          "execution_count": 70,
          "output_type": "execute_result",
          "data": {
            "text/plain": "                       rownames survived     sex   age passengerClass\n1302          Yousif, Mr. Wazli       no    male   NaN            3rd\n1303      Yousseff, Mr. Gerious       no    male   NaN            3rd\n1304       Zabour, Miss. Hileni       no  female  14.5            3rd\n1305      Zabour, Miss. Thamine       no  female   NaN            3rd\n1306  Zakarian, Mr. Mapriededer       no    male  26.5            3rd\n1307        Zakarian, Mr. Ortin       no    male  27.0            3rd\n1308         Zimmerman, Mr. Leo       no    male  29.0            3rd",
            "text/html": "<div>\n<style scoped>\n    .dataframe tbody tr th:only-of-type {\n        vertical-align: middle;\n    }\n\n    .dataframe tbody tr th {\n        vertical-align: top;\n    }\n\n    .dataframe thead th {\n        text-align: right;\n    }\n</style>\n<table border=\"1\" class=\"dataframe\">\n  <thead>\n    <tr style=\"text-align: right;\">\n      <th></th>\n      <th>rownames</th>\n      <th>survived</th>\n      <th>sex</th>\n      <th>age</th>\n      <th>passengerClass</th>\n    </tr>\n  </thead>\n  <tbody>\n    <tr>\n      <th>1302</th>\n      <td>Yousif, Mr. Wazli</td>\n      <td>no</td>\n      <td>male</td>\n      <td>NaN</td>\n      <td>3rd</td>\n    </tr>\n    <tr>\n      <th>1303</th>\n      <td>Yousseff, Mr. Gerious</td>\n      <td>no</td>\n      <td>male</td>\n      <td>NaN</td>\n      <td>3rd</td>\n    </tr>\n    <tr>\n      <th>1304</th>\n      <td>Zabour, Miss. Hileni</td>\n      <td>no</td>\n      <td>female</td>\n      <td>14.5</td>\n      <td>3rd</td>\n    </tr>\n    <tr>\n      <th>1305</th>\n      <td>Zabour, Miss. Thamine</td>\n      <td>no</td>\n      <td>female</td>\n      <td>NaN</td>\n      <td>3rd</td>\n    </tr>\n    <tr>\n      <th>1306</th>\n      <td>Zakarian, Mr. Mapriededer</td>\n      <td>no</td>\n      <td>male</td>\n      <td>26.5</td>\n      <td>3rd</td>\n    </tr>\n    <tr>\n      <th>1307</th>\n      <td>Zakarian, Mr. Ortin</td>\n      <td>no</td>\n      <td>male</td>\n      <td>27.0</td>\n      <td>3rd</td>\n    </tr>\n    <tr>\n      <th>1308</th>\n      <td>Zimmerman, Mr. Leo</td>\n      <td>no</td>\n      <td>male</td>\n      <td>29.0</td>\n      <td>3rd</td>\n    </tr>\n  </tbody>\n</table>\n</div>"
          },
          "metadata": {}
        }
      ],
      "execution_count": 70
    },
    {
      "cell_type": "code",
      "source": "titanic.columns = ['name', 'survived', 'sex', 'age', 'class']\ntitanic.head()",
      "metadata": {
        "trusted": true
      },
      "outputs": [
        {
          "execution_count": 71,
          "output_type": "execute_result",
          "data": {
            "text/plain": "                              name survived     sex    age class\n0    Allen, Miss. Elisabeth Walton      yes  female  29.00   1st\n1   Allison, Master. Hudson Trevor      yes    male   0.92   1st\n2     Allison, Miss. Helen Loraine       no  female   2.00   1st\n3  Allison, Mr. Hudson Joshua Crei       no    male  30.00   1st\n4  Allison, Mrs. Hudson J C (Bessi       no  female  25.00   1st",
            "text/html": "<div>\n<style scoped>\n    .dataframe tbody tr th:only-of-type {\n        vertical-align: middle;\n    }\n\n    .dataframe tbody tr th {\n        vertical-align: top;\n    }\n\n    .dataframe thead th {\n        text-align: right;\n    }\n</style>\n<table border=\"1\" class=\"dataframe\">\n  <thead>\n    <tr style=\"text-align: right;\">\n      <th></th>\n      <th>name</th>\n      <th>survived</th>\n      <th>sex</th>\n      <th>age</th>\n      <th>class</th>\n    </tr>\n  </thead>\n  <tbody>\n    <tr>\n      <th>0</th>\n      <td>Allen, Miss. Elisabeth Walton</td>\n      <td>yes</td>\n      <td>female</td>\n      <td>29.00</td>\n      <td>1st</td>\n    </tr>\n    <tr>\n      <th>1</th>\n      <td>Allison, Master. Hudson Trevor</td>\n      <td>yes</td>\n      <td>male</td>\n      <td>0.92</td>\n      <td>1st</td>\n    </tr>\n    <tr>\n      <th>2</th>\n      <td>Allison, Miss. Helen Loraine</td>\n      <td>no</td>\n      <td>female</td>\n      <td>2.00</td>\n      <td>1st</td>\n    </tr>\n    <tr>\n      <th>3</th>\n      <td>Allison, Mr. Hudson Joshua Crei</td>\n      <td>no</td>\n      <td>male</td>\n      <td>30.00</td>\n      <td>1st</td>\n    </tr>\n    <tr>\n      <th>4</th>\n      <td>Allison, Mrs. Hudson J C (Bessi</td>\n      <td>no</td>\n      <td>female</td>\n      <td>25.00</td>\n      <td>1st</td>\n    </tr>\n  </tbody>\n</table>\n</div>"
          },
          "metadata": {}
        }
      ],
      "execution_count": 71
    },
    {
      "cell_type": "markdown",
      "source": "Наймолодший пасажир:",
      "metadata": {}
    },
    {
      "cell_type": "code",
      "source": "titanic.min()",
      "metadata": {
        "trusted": true
      },
      "outputs": [
        {
          "execution_count": 72,
          "output_type": "execute_result",
          "data": {
            "text/plain": "name        Abbing, Mr. Anthony\nsurvived                     no\nsex                      female\nage                        0.17\nclass                       1st\ndtype: object"
          },
          "metadata": {}
        }
      ],
      "execution_count": 72
    },
    {
      "cell_type": "markdown",
      "source": "Найстарший пасажир:",
      "metadata": {}
    },
    {
      "cell_type": "code",
      "source": "titanic.max()",
      "metadata": {
        "trusted": true
      },
      "outputs": [
        {
          "execution_count": 73,
          "output_type": "execute_result",
          "data": {
            "text/plain": "name        van Melkebeke, Mr. Philemon\nsurvived                            yes\nsex                                male\nage                                80.0\nclass                               3rd\ndtype: object"
          },
          "metadata": {}
        }
      ],
      "execution_count": 73
    },
    {
      "cell_type": "markdown",
      "source": "Середній вік пасажирів:",
      "metadata": {}
    },
    {
      "cell_type": "code",
      "source": "titanic.age.mean()",
      "metadata": {
        "trusted": true
      },
      "outputs": [
        {
          "execution_count": 75,
          "output_type": "execute_result",
          "data": {
            "text/plain": "29.881134512434034"
          },
          "metadata": {}
        }
      ],
      "execution_count": 75
    },
    {
      "cell_type": "markdown",
      "source": "Загальна статистика:",
      "metadata": {}
    },
    {
      "cell_type": "code",
      "source": "titanic.describe()",
      "metadata": {
        "trusted": true
      },
      "outputs": [
        {
          "execution_count": 76,
          "output_type": "execute_result",
          "data": {
            "text/plain": "           age\ncount  1046.00\nmean     29.88\nstd      14.41\nmin       0.17\n25%      21.00\n50%      28.00\n75%      39.00\nmax      80.00",
            "text/html": "<div>\n<style scoped>\n    .dataframe tbody tr th:only-of-type {\n        vertical-align: middle;\n    }\n\n    .dataframe tbody tr th {\n        vertical-align: top;\n    }\n\n    .dataframe thead th {\n        text-align: right;\n    }\n</style>\n<table border=\"1\" class=\"dataframe\">\n  <thead>\n    <tr style=\"text-align: right;\">\n      <th></th>\n      <th>age</th>\n    </tr>\n  </thead>\n  <tbody>\n    <tr>\n      <th>count</th>\n      <td>1046.00</td>\n    </tr>\n    <tr>\n      <th>mean</th>\n      <td>29.88</td>\n    </tr>\n    <tr>\n      <th>std</th>\n      <td>14.41</td>\n    </tr>\n    <tr>\n      <th>min</th>\n      <td>0.17</td>\n    </tr>\n    <tr>\n      <th>25%</th>\n      <td>21.00</td>\n    </tr>\n    <tr>\n      <th>50%</th>\n      <td>28.00</td>\n    </tr>\n    <tr>\n      <th>75%</th>\n      <td>39.00</td>\n    </tr>\n    <tr>\n      <th>max</th>\n      <td>80.00</td>\n    </tr>\n  </tbody>\n</table>\n</div>"
          },
          "metadata": {}
        }
      ],
      "execution_count": 76
    },
    {
      "cell_type": "markdown",
      "source": "Статистика по пасажирам, які вижили:",
      "metadata": {}
    },
    {
      "cell_type": "code",
      "source": "is_titanic_survived = titanic['survived'].isin(['yes'])\ntitanic_survived = titanic[is_titanic_survived]\ntitanic_survived",
      "metadata": {
        "trusted": true
      },
      "outputs": [
        {
          "execution_count": 78,
          "output_type": "execute_result",
          "data": {
            "text/plain": "                                 name survived     sex    age class\n0       Allen, Miss. Elisabeth Walton      yes  female  29.00   1st\n1      Allison, Master. Hudson Trevor      yes    male   0.92   1st\n5                 Anderson, Mr. Harry      yes    male  48.00   1st\n6     Andrews, Miss. Kornelia Theodos      yes  female  63.00   1st\n8     Appleton, Mrs. Edward Dale (Cha      yes  female  53.00   1st\n...                               ...      ...     ...    ...   ...\n1261           Turkula, Mrs. (Hedwig)      yes  female  63.00   3rd\n1277             Vartanian, Mr. David      yes    male  22.00   3rd\n1286  Whabee, Mrs. George Joseph (Sha      yes  female  38.00   3rd\n1290  Wilkes, Mrs. James (Ellen Needs      yes  female  47.00   3rd\n1300  Yasbeck, Mrs. Antoni (Selini Al      yes  female  15.00   3rd\n\n[500 rows x 5 columns]",
            "text/html": "<div>\n<style scoped>\n    .dataframe tbody tr th:only-of-type {\n        vertical-align: middle;\n    }\n\n    .dataframe tbody tr th {\n        vertical-align: top;\n    }\n\n    .dataframe thead th {\n        text-align: right;\n    }\n</style>\n<table border=\"1\" class=\"dataframe\">\n  <thead>\n    <tr style=\"text-align: right;\">\n      <th></th>\n      <th>name</th>\n      <th>survived</th>\n      <th>sex</th>\n      <th>age</th>\n      <th>class</th>\n    </tr>\n  </thead>\n  <tbody>\n    <tr>\n      <th>0</th>\n      <td>Allen, Miss. Elisabeth Walton</td>\n      <td>yes</td>\n      <td>female</td>\n      <td>29.00</td>\n      <td>1st</td>\n    </tr>\n    <tr>\n      <th>1</th>\n      <td>Allison, Master. Hudson Trevor</td>\n      <td>yes</td>\n      <td>male</td>\n      <td>0.92</td>\n      <td>1st</td>\n    </tr>\n    <tr>\n      <th>5</th>\n      <td>Anderson, Mr. Harry</td>\n      <td>yes</td>\n      <td>male</td>\n      <td>48.00</td>\n      <td>1st</td>\n    </tr>\n    <tr>\n      <th>6</th>\n      <td>Andrews, Miss. Kornelia Theodos</td>\n      <td>yes</td>\n      <td>female</td>\n      <td>63.00</td>\n      <td>1st</td>\n    </tr>\n    <tr>\n      <th>8</th>\n      <td>Appleton, Mrs. Edward Dale (Cha</td>\n      <td>yes</td>\n      <td>female</td>\n      <td>53.00</td>\n      <td>1st</td>\n    </tr>\n    <tr>\n      <th>...</th>\n      <td>...</td>\n      <td>...</td>\n      <td>...</td>\n      <td>...</td>\n      <td>...</td>\n    </tr>\n    <tr>\n      <th>1261</th>\n      <td>Turkula, Mrs. (Hedwig)</td>\n      <td>yes</td>\n      <td>female</td>\n      <td>63.00</td>\n      <td>3rd</td>\n    </tr>\n    <tr>\n      <th>1277</th>\n      <td>Vartanian, Mr. David</td>\n      <td>yes</td>\n      <td>male</td>\n      <td>22.00</td>\n      <td>3rd</td>\n    </tr>\n    <tr>\n      <th>1286</th>\n      <td>Whabee, Mrs. George Joseph (Sha</td>\n      <td>yes</td>\n      <td>female</td>\n      <td>38.00</td>\n      <td>3rd</td>\n    </tr>\n    <tr>\n      <th>1290</th>\n      <td>Wilkes, Mrs. James (Ellen Needs</td>\n      <td>yes</td>\n      <td>female</td>\n      <td>47.00</td>\n      <td>3rd</td>\n    </tr>\n    <tr>\n      <th>1300</th>\n      <td>Yasbeck, Mrs. Antoni (Selini Al</td>\n      <td>yes</td>\n      <td>female</td>\n      <td>15.00</td>\n      <td>3rd</td>\n    </tr>\n  </tbody>\n</table>\n<p>500 rows × 5 columns</p>\n</div>"
          },
          "metadata": {}
        }
      ],
      "execution_count": 78
    },
    {
      "cell_type": "code",
      "source": "titanic_survived.describe()",
      "metadata": {
        "trusted": true
      },
      "outputs": [
        {
          "execution_count": 79,
          "output_type": "execute_result",
          "data": {
            "text/plain": "          age\ncount  427.00\nmean    28.92\nstd     15.06\nmin      0.17\n25%     20.00\n50%     28.00\n75%     38.00\nmax     80.00",
            "text/html": "<div>\n<style scoped>\n    .dataframe tbody tr th:only-of-type {\n        vertical-align: middle;\n    }\n\n    .dataframe tbody tr th {\n        vertical-align: top;\n    }\n\n    .dataframe thead th {\n        text-align: right;\n    }\n</style>\n<table border=\"1\" class=\"dataframe\">\n  <thead>\n    <tr style=\"text-align: right;\">\n      <th></th>\n      <th>age</th>\n    </tr>\n  </thead>\n  <tbody>\n    <tr>\n      <th>count</th>\n      <td>427.00</td>\n    </tr>\n    <tr>\n      <th>mean</th>\n      <td>28.92</td>\n    </tr>\n    <tr>\n      <th>std</th>\n      <td>15.06</td>\n    </tr>\n    <tr>\n      <th>min</th>\n      <td>0.17</td>\n    </tr>\n    <tr>\n      <th>25%</th>\n      <td>20.00</td>\n    </tr>\n    <tr>\n      <th>50%</th>\n      <td>28.00</td>\n    </tr>\n    <tr>\n      <th>75%</th>\n      <td>38.00</td>\n    </tr>\n    <tr>\n      <th>max</th>\n      <td>80.00</td>\n    </tr>\n  </tbody>\n</table>\n</div>"
          },
          "metadata": {}
        }
      ],
      "execution_count": 79
    },
    {
      "cell_type": "code",
      "source": "titanic_survived.min()",
      "metadata": {
        "trusted": true
      },
      "outputs": [
        {
          "execution_count": 80,
          "output_type": "execute_result",
          "data": {
            "text/plain": "name        Abbott, Mrs. Stanton (Rosa Hunt\nsurvived                                yes\nsex                                  female\nage                                    0.17\nclass                                   1st\ndtype: object"
          },
          "metadata": {}
        }
      ],
      "execution_count": 80
    },
    {
      "cell_type": "markdown",
      "source": "Жінки з кают першого класу:",
      "metadata": {}
    },
    {
      "cell_type": "code",
      "source": "titanic_woman = titanic[titanic['sex'].isin(['female']) & titanic['class'].isin(['1st'])]\ntitanic_woman",
      "metadata": {
        "trusted": true
      },
      "outputs": [
        {
          "execution_count": 83,
          "output_type": "execute_result",
          "data": {
            "text/plain": "                                name survived     sex   age class\n0      Allen, Miss. Elisabeth Walton      yes  female  29.0   1st\n2       Allison, Miss. Helen Loraine       no  female   2.0   1st\n4    Allison, Mrs. Hudson J C (Bessi       no  female  25.0   1st\n6    Andrews, Miss. Kornelia Theodos      yes  female  63.0   1st\n8    Appleton, Mrs. Edward Dale (Cha      yes  female  53.0   1st\n..                               ...      ...     ...   ...   ...\n311  Wick, Mrs. George Dennick (Mary      yes  female  45.0   1st\n314  Widener, Mrs. George Dunton (El      yes  female  50.0   1st\n315         Willard, Miss. Constance      yes  female  21.0   1st\n319        Wilson, Miss. Helen Alice      yes  female  31.0   1st\n322         Young, Miss. Marie Grice      yes  female  36.0   1st\n\n[144 rows x 5 columns]",
            "text/html": "<div>\n<style scoped>\n    .dataframe tbody tr th:only-of-type {\n        vertical-align: middle;\n    }\n\n    .dataframe tbody tr th {\n        vertical-align: top;\n    }\n\n    .dataframe thead th {\n        text-align: right;\n    }\n</style>\n<table border=\"1\" class=\"dataframe\">\n  <thead>\n    <tr style=\"text-align: right;\">\n      <th></th>\n      <th>name</th>\n      <th>survived</th>\n      <th>sex</th>\n      <th>age</th>\n      <th>class</th>\n    </tr>\n  </thead>\n  <tbody>\n    <tr>\n      <th>0</th>\n      <td>Allen, Miss. Elisabeth Walton</td>\n      <td>yes</td>\n      <td>female</td>\n      <td>29.0</td>\n      <td>1st</td>\n    </tr>\n    <tr>\n      <th>2</th>\n      <td>Allison, Miss. Helen Loraine</td>\n      <td>no</td>\n      <td>female</td>\n      <td>2.0</td>\n      <td>1st</td>\n    </tr>\n    <tr>\n      <th>4</th>\n      <td>Allison, Mrs. Hudson J C (Bessi</td>\n      <td>no</td>\n      <td>female</td>\n      <td>25.0</td>\n      <td>1st</td>\n    </tr>\n    <tr>\n      <th>6</th>\n      <td>Andrews, Miss. Kornelia Theodos</td>\n      <td>yes</td>\n      <td>female</td>\n      <td>63.0</td>\n      <td>1st</td>\n    </tr>\n    <tr>\n      <th>8</th>\n      <td>Appleton, Mrs. Edward Dale (Cha</td>\n      <td>yes</td>\n      <td>female</td>\n      <td>53.0</td>\n      <td>1st</td>\n    </tr>\n    <tr>\n      <th>...</th>\n      <td>...</td>\n      <td>...</td>\n      <td>...</td>\n      <td>...</td>\n      <td>...</td>\n    </tr>\n    <tr>\n      <th>311</th>\n      <td>Wick, Mrs. George Dennick (Mary</td>\n      <td>yes</td>\n      <td>female</td>\n      <td>45.0</td>\n      <td>1st</td>\n    </tr>\n    <tr>\n      <th>314</th>\n      <td>Widener, Mrs. George Dunton (El</td>\n      <td>yes</td>\n      <td>female</td>\n      <td>50.0</td>\n      <td>1st</td>\n    </tr>\n    <tr>\n      <th>315</th>\n      <td>Willard, Miss. Constance</td>\n      <td>yes</td>\n      <td>female</td>\n      <td>21.0</td>\n      <td>1st</td>\n    </tr>\n    <tr>\n      <th>319</th>\n      <td>Wilson, Miss. Helen Alice</td>\n      <td>yes</td>\n      <td>female</td>\n      <td>31.0</td>\n      <td>1st</td>\n    </tr>\n    <tr>\n      <th>322</th>\n      <td>Young, Miss. Marie Grice</td>\n      <td>yes</td>\n      <td>female</td>\n      <td>36.0</td>\n      <td>1st</td>\n    </tr>\n  </tbody>\n</table>\n<p>144 rows × 5 columns</p>\n</div>"
          },
          "metadata": {}
        }
      ],
      "execution_count": 83
    },
    {
      "cell_type": "markdown",
      "source": "Наймолодша:",
      "metadata": {}
    },
    {
      "cell_type": "code",
      "source": "titanic_woman.min()",
      "metadata": {
        "trusted": true
      },
      "outputs": [
        {
          "execution_count": 84,
          "output_type": "execute_result",
          "data": {
            "text/plain": "name        Allen, Miss. Elisabeth Walton\nsurvived                               no\nsex                                female\nage                                   2.0\nclass                                 1st\ndtype: object"
          },
          "metadata": {}
        }
      ],
      "execution_count": 84
    },
    {
      "cell_type": "markdown",
      "source": "Найстарша:",
      "metadata": {}
    },
    {
      "cell_type": "code",
      "source": "titanic_woman.max()",
      "metadata": {
        "trusted": true
      },
      "outputs": [
        {
          "execution_count": 85,
          "output_type": "execute_result",
          "data": {
            "text/plain": "name        Young, Miss. Marie Grice\nsurvived                         yes\nsex                           female\nage                             76.0\nclass                            1st\ndtype: object"
          },
          "metadata": {}
        }
      ],
      "execution_count": 85
    },
    {
      "cell_type": "markdown",
      "source": "Вижило:",
      "metadata": {}
    },
    {
      "cell_type": "code",
      "source": "titanic_woman[titanic_woman['survived'].isin(['yes'])].name.count()",
      "metadata": {
        "trusted": true
      },
      "outputs": [
        {
          "execution_count": 89,
          "output_type": "execute_result",
          "data": {
            "text/plain": "139"
          },
          "metadata": {}
        }
      ],
      "execution_count": 89
    },
    {
      "cell_type": "code",
      "source": "histogram = titanic.hist()",
      "metadata": {
        "trusted": true
      },
      "outputs": [
        {
          "output_type": "display_data",
          "data": {
            "text/plain": "<Figure size 640x480 with 1 Axes>",
            "image/png": "[encoded data removed]"
          },
          "metadata": {}
        }
      ],
      "execution_count": 90
    },
    {
      "cell_type": "code",
      "source": "",
      "metadata": {
        "trusted": true
      },
      "outputs": [],
      "execution_count": null
    }
  ]
}