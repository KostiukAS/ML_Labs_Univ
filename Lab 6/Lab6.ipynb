{
 "cells": [
  {
   "cell_type": "markdown",
   "id": "07d2fc52-3366-4688-9d45-086661302006",
   "metadata": {},
   "source": [
    "Лабораторна робота 6"
   ]
  },
  {
   "cell_type": "code",
   "execution_count": 1,
   "id": "f913affa-7390-44f2-8b7e-c27ab53c15f2",
   "metadata": {},
   "outputs": [],
   "source": [
    "import numpy as np\n",
    "import pandas as pd"
   ]
  },
  {
   "cell_type": "code",
   "execution_count": 2,
   "id": "ee79a340-3474-4e89-8e0a-98f8154d1d7e",
   "metadata": {},
   "outputs": [],
   "source": [
    "def calcRating(english, ukrainian, math):\n",
    "    return 0.4 * math + 0.3 * english + 0.3 * ukrainian\n",
    "\n",
    "def checkIfPassed(studentInfo):\n",
    "    minEnglish = 120\n",
    "    minUkrainian = 120\n",
    "    minMath = 120 if studentInfo['Has benefits'] else 140\n",
    "    minRating = 144 if studentInfo['Has benefits'] else 160\n",
    "\n",
    "    if (studentInfo['English'] >= minEnglish and studentInfo['Ukrainian'] >= minUkrainian and\n",
    "       studentInfo['Math'] >= minMath and studentInfo['rating'] >= minRating):\n",
    "        return True\n",
    "    else:\n",
    "        return False"
   ]
  },
  {
   "cell_type": "code",
   "execution_count": 3,
   "id": "1b56bd97-2c5d-4d74-8b57-0379b2415ddb",
   "metadata": {},
   "outputs": [],
   "source": [
    "def createDataset(numOfApplicants):\n",
    "    marks = np.random.randint(100, 201, (numOfApplicants, 3))\n",
    "    rating = np.array([calcRating(marks[i, 0], marks[i, 1], marks[i, 2]) for i in range(numOfApplicants)])\n",
    "    count_accepted = 0\n",
    "    count_benef_accepted = 0\n",
    "\n",
    "    dataset = pd.DataFrame(marks, columns=['Math', 'English', 'Ukrainian'])\n",
    "    dataset['accepted'] = 0\n",
    "    dataset['rating'] = rating\n",
    "    dataset['Has benefits'] = np.random.choice([0, 1], size=numOfApplicants, p=[0.9, 0.1])\n",
    "\n",
    "    max_accepted = int(350 / 1500 * numOfApplicants)\n",
    "    max_benef_accepted = int(max_accepted * 0.1)\n",
    "    dataset_copy = dataset.sort_values(['Has benefits', 'rating'], ascending=[False, False])\n",
    "\n",
    "    for i, studentInfo in dataset_copy.iterrows():\n",
    "        if not studentInfo['Has benefits'] or count_benef_accepted == max_benef_accepted or count_accepted == max_accepted:\n",
    "            break\n",
    "        if checkIfPassed(studentInfo):\n",
    "            count_accepted += 1\n",
    "            count_benef_accepted += 1\n",
    "            dataset.at[i, 'accepted'] = 1\n",
    "\n",
    "    dataset_copy = dataset.sort_values(['accepted', 'rating'], ascending=[True, False])\n",
    "\n",
    "    for i, studentInfo in dataset_copy.iterrows():\n",
    "        if count_accepted == max_accepted:\n",
    "            break\n",
    "        if studentInfo['Has benefits']:\n",
    "            continue\n",
    "        if checkIfPassed(studentInfo):\n",
    "            count_accepted += 1\n",
    "            dataset.at[i, 'accepted'] = 1\n",
    "\n",
    "    return dataset"
   ]
  },
  {
   "cell_type": "code",
   "execution_count": 4,
   "id": "159ab218-0550-43dd-b0e2-f098f9f07cc4",
   "metadata": {},
   "outputs": [],
   "source": [
    "train_dataset = createDataset(50000)\n",
    "test_dataset = createDataset(1500)"
   ]
  },
  {
   "cell_type": "code",
   "execution_count": 5,
   "id": "1eb1368d-4318-4384-accd-4a3d3d970c20",
   "metadata": {},
   "outputs": [
    {
     "data": {
      "text/html": [
       "<div>\n",
       "<style scoped>\n",
       "    .dataframe tbody tr th:only-of-type {\n",
       "        vertical-align: middle;\n",
       "    }\n",
       "\n",
       "    .dataframe tbody tr th {\n",
       "        vertical-align: top;\n",
       "    }\n",
       "\n",
       "    .dataframe thead th {\n",
       "        text-align: right;\n",
       "    }\n",
       "</style>\n",
       "<table border=\"1\" class=\"dataframe\">\n",
       "  <thead>\n",
       "    <tr style=\"text-align: right;\">\n",
       "      <th></th>\n",
       "      <th>Math</th>\n",
       "      <th>English</th>\n",
       "      <th>Ukrainian</th>\n",
       "      <th>accepted</th>\n",
       "      <th>rating</th>\n",
       "      <th>Has benefits</th>\n",
       "    </tr>\n",
       "  </thead>\n",
       "  <tbody>\n",
       "    <tr>\n",
       "      <th>0</th>\n",
       "      <td>145</td>\n",
       "      <td>188</td>\n",
       "      <td>162</td>\n",
       "      <td>1</td>\n",
       "      <td>164.7</td>\n",
       "      <td>0</td>\n",
       "    </tr>\n",
       "    <tr>\n",
       "      <th>1</th>\n",
       "      <td>112</td>\n",
       "      <td>135</td>\n",
       "      <td>177</td>\n",
       "      <td>0</td>\n",
       "      <td>144.9</td>\n",
       "      <td>0</td>\n",
       "    </tr>\n",
       "    <tr>\n",
       "      <th>2</th>\n",
       "      <td>162</td>\n",
       "      <td>106</td>\n",
       "      <td>120</td>\n",
       "      <td>0</td>\n",
       "      <td>128.4</td>\n",
       "      <td>0</td>\n",
       "    </tr>\n",
       "    <tr>\n",
       "      <th>3</th>\n",
       "      <td>164</td>\n",
       "      <td>147</td>\n",
       "      <td>162</td>\n",
       "      <td>0</td>\n",
       "      <td>158.1</td>\n",
       "      <td>0</td>\n",
       "    </tr>\n",
       "    <tr>\n",
       "      <th>4</th>\n",
       "      <td>109</td>\n",
       "      <td>130</td>\n",
       "      <td>137</td>\n",
       "      <td>0</td>\n",
       "      <td>126.5</td>\n",
       "      <td>0</td>\n",
       "    </tr>\n",
       "  </tbody>\n",
       "</table>\n",
       "</div>"
      ],
      "text/plain": [
       "   Math  English  Ukrainian  accepted  rating  Has benefits\n",
       "0   145      188        162         1   164.7             0\n",
       "1   112      135        177         0   144.9             0\n",
       "2   162      106        120         0   128.4             0\n",
       "3   164      147        162         0   158.1             0\n",
       "4   109      130        137         0   126.5             0"
      ]
     },
     "execution_count": 5,
     "metadata": {},
     "output_type": "execute_result"
    }
   ],
   "source": [
    "train_dataset.head()"
   ]
  },
  {
   "cell_type": "code",
   "execution_count": 6,
   "id": "66889fab-bf91-48a5-a5ec-7c0df54355b9",
   "metadata": {},
   "outputs": [
    {
     "data": {
      "text/plain": [
       "(50000, 6)"
      ]
     },
     "execution_count": 6,
     "metadata": {},
     "output_type": "execute_result"
    }
   ],
   "source": [
    "train_dataset.shape"
   ]
  },
  {
   "cell_type": "code",
   "execution_count": 7,
   "id": "62b22b7e-d297-40c3-a6f4-3d251386b0f3",
   "metadata": {},
   "outputs": [],
   "source": [
    "X_train, y_train = train_dataset.drop(columns='accepted'), train_dataset['accepted']\n",
    "X_test, y_test = test_dataset.drop(columns='accepted'), test_dataset['accepted']"
   ]
  },
  {
   "cell_type": "code",
   "execution_count": 8,
   "id": "15d978f1-9cdb-4b6b-94b1-c67e68dbcc6f",
   "metadata": {},
   "outputs": [
    {
     "data": {
      "text/plain": [
       "array([[0.45      , 0.88      , 0.62      , 0.64559585, 0.        ],\n",
       "       [0.12      , 0.35      , 0.77      , 0.44041451, 0.        ],\n",
       "       [0.62      , 0.06      , 0.2       , 0.26943005, 0.        ],\n",
       "       ...,\n",
       "       [0.06      , 0.17      , 0.97      , 0.44870466, 0.        ],\n",
       "       [0.61      , 0.17      , 0.91      , 0.59481865, 0.        ],\n",
       "       [0.08      , 0.59      , 0.99      , 0.59378238, 0.        ]])"
      ]
     },
     "execution_count": 8,
     "metadata": {},
     "output_type": "execute_result"
    }
   ],
   "source": [
    "from sklearn.preprocessing import MinMaxScaler\n",
    "\n",
    "mms = MinMaxScaler()\n",
    "X_train = mms.fit_transform(X_train)\n",
    "X_test = mms.fit_transform(X_test)\n",
    "\n",
    "X_train"
   ]
  },
  {
   "cell_type": "code",
   "execution_count": 9,
   "id": "8886b0bd-fe14-43dc-9dc7-26d77ff9c192",
   "metadata": {},
   "outputs": [],
   "source": [
    "from keras import models\n",
    "from keras import layers"
   ]
  },
  {
   "cell_type": "code",
   "execution_count": 16,
   "id": "68b349f6-134c-4431-a999-9739e4ee9e19",
   "metadata": {},
   "outputs": [],
   "source": [
    "network = models.Sequential([\n",
    "    layers.Dense(4, input_dim=5, activation='relu'),\n",
    "    layers.Dense(1, activation='sigmoid')\n",
    "])"
   ]
  },
  {
   "cell_type": "code",
   "execution_count": 17,
   "id": "702d045c-ad12-4b2f-8030-3f576e2cc5d2",
   "metadata": {},
   "outputs": [
    {
     "name": "stdout",
     "output_type": "stream",
     "text": [
      "Epoch 1/6\n",
      "\u001b[1m1000/1000\u001b[0m \u001b[32m━━━━━━━━━━━━━━━━━━━━\u001b[0m\u001b[37m\u001b[0m \u001b[1m1s\u001b[0m 737us/step - accuracy: 0.7310 - loss: 0.6258\n",
      "Epoch 2/6\n",
      "\u001b[1m1000/1000\u001b[0m \u001b[32m━━━━━━━━━━━━━━━━━━━━\u001b[0m\u001b[37m\u001b[0m \u001b[1m1s\u001b[0m 708us/step - accuracy: 0.7747 - loss: 0.4461\n",
      "Epoch 3/6\n",
      "\u001b[1m1000/1000\u001b[0m \u001b[32m━━━━━━━━━━━━━━━━━━━━\u001b[0m\u001b[37m\u001b[0m \u001b[1m1s\u001b[0m 746us/step - accuracy: 0.7708 - loss: 0.3484\n",
      "Epoch 4/6\n",
      "\u001b[1m1000/1000\u001b[0m \u001b[32m━━━━━━━━━━━━━━━━━━━━\u001b[0m\u001b[37m\u001b[0m \u001b[1m1s\u001b[0m 719us/step - accuracy: 0.8905 - loss: 0.2779\n",
      "Epoch 5/6\n",
      "\u001b[1m1000/1000\u001b[0m \u001b[32m━━━━━━━━━━━━━━━━━━━━\u001b[0m\u001b[37m\u001b[0m \u001b[1m1s\u001b[0m 696us/step - accuracy: 0.9170 - loss: 0.2269\n",
      "Epoch 6/6\n",
      "\u001b[1m1000/1000\u001b[0m \u001b[32m━━━━━━━━━━━━━━━━━━━━\u001b[0m\u001b[37m\u001b[0m \u001b[1m1s\u001b[0m 703us/step - accuracy: 0.9285 - loss: 0.1939\n"
     ]
    },
    {
     "data": {
      "text/plain": [
       "<keras.src.callbacks.history.History at 0x1f0df069040>"
      ]
     },
     "execution_count": 17,
     "metadata": {},
     "output_type": "execute_result"
    }
   ],
   "source": [
    "network.compile(optimizer='adam', loss='binary_crossentropy', metrics=['accuracy'])\n",
    "network.fit(X_train, y_train, epochs=6, batch_size=50)"
   ]
  },
  {
   "cell_type": "code",
   "execution_count": 18,
   "id": "ccde998a-d89a-4f6e-b429-4237ec7140c9",
   "metadata": {},
   "outputs": [
    {
     "name": "stdout",
     "output_type": "stream",
     "text": [
      "\u001b[1m47/47\u001b[0m \u001b[32m━━━━━━━━━━━━━━━━━━━━\u001b[0m\u001b[37m\u001b[0m \u001b[1m0s\u001b[0m 695us/step - accuracy: 0.9469 - loss: 0.1801\n"
     ]
    }
   ],
   "source": [
    "test_loss, test_acc = network.evaluate(X_test, y_test)"
   ]
  },
  {
   "cell_type": "code",
   "execution_count": 19,
   "id": "d9c3b6f2-ef16-4b0c-a206-f22dd1a04139",
   "metadata": {},
   "outputs": [
    {
     "name": "stdout",
     "output_type": "stream",
     "text": [
      "Epoch 1/6\n",
      "\u001b[1m1000/1000\u001b[0m \u001b[32m━━━━━━━━━━━━━━━━━━━━\u001b[0m\u001b[37m\u001b[0m \u001b[1m1s\u001b[0m 733us/step - accuracy: 0.7720 - loss: 0.5207\n",
      "Epoch 2/6\n",
      "\u001b[1m1000/1000\u001b[0m \u001b[32m━━━━━━━━━━━━━━━━━━━━\u001b[0m\u001b[37m\u001b[0m \u001b[1m1s\u001b[0m 748us/step - accuracy: 0.9062 - loss: 0.2376\n",
      "Epoch 3/6\n",
      "\u001b[1m1000/1000\u001b[0m \u001b[32m━━━━━━━━━━━━━━━━━━━━\u001b[0m\u001b[37m\u001b[0m \u001b[1m1s\u001b[0m 744us/step - accuracy: 0.9528 - loss: 0.1609\n",
      "Epoch 4/6\n",
      "\u001b[1m1000/1000\u001b[0m \u001b[32m━━━━━━━━━━━━━━━━━━━━\u001b[0m\u001b[37m\u001b[0m \u001b[1m1s\u001b[0m 718us/step - accuracy: 0.9632 - loss: 0.1245\n",
      "Epoch 5/6\n",
      "\u001b[1m1000/1000\u001b[0m \u001b[32m━━━━━━━━━━━━━━━━━━━━\u001b[0m\u001b[37m\u001b[0m \u001b[1m1s\u001b[0m 826us/step - accuracy: 0.9679 - loss: 0.1009\n",
      "Epoch 6/6\n",
      "\u001b[1m1000/1000\u001b[0m \u001b[32m━━━━━━━━━━━━━━━━━━━━\u001b[0m\u001b[37m\u001b[0m \u001b[1m1s\u001b[0m 751us/step - accuracy: 0.9709 - loss: 0.0881\n"
     ]
    },
    {
     "data": {
      "text/plain": [
       "<keras.src.callbacks.history.History at 0x1f0e3ff9820>"
      ]
     },
     "execution_count": 19,
     "metadata": {},
     "output_type": "execute_result"
    }
   ],
   "source": [
    "network = models.Sequential([\n",
    "    layers.Dense(8, input_dim=5, activation='relu'),\n",
    "    layers.Dense(4, activation='relu'),\n",
    "    layers.Dense(1, activation='sigmoid')\n",
    "])\n",
    "\n",
    "network.compile(optimizer='adam', loss='binary_crossentropy', metrics=['accuracy'])\n",
    "network.fit(X_train, y_train, epochs=6, batch_size=50)"
   ]
  },
  {
   "cell_type": "code",
   "execution_count": 20,
   "id": "4e53a648-53ce-422e-a691-85b8ffff4a9c",
   "metadata": {},
   "outputs": [
    {
     "name": "stdout",
     "output_type": "stream",
     "text": [
      "\u001b[1m47/47\u001b[0m \u001b[32m━━━━━━━━━━━━━━━━━━━━\u001b[0m\u001b[37m\u001b[0m \u001b[1m0s\u001b[0m 739us/step - accuracy: 0.9717 - loss: 0.0883\n"
     ]
    }
   ],
   "source": [
    "test_loss, test_acc = network.evaluate(X_test, y_test)"
   ]
  },
  {
   "cell_type": "code",
   "execution_count": 21,
   "id": "bb7befb3-2c6a-4568-88e4-9ccc5dc96ba3",
   "metadata": {},
   "outputs": [
    {
     "name": "stdout",
     "output_type": "stream",
     "text": [
      "Epoch 1/6\n",
      "\u001b[1m1000/1000\u001b[0m \u001b[32m━━━━━━━━━━━━━━━━━━━━\u001b[0m\u001b[37m\u001b[0m \u001b[1m1s\u001b[0m 683us/step - accuracy: 0.7775 - loss: 0.5554\n",
      "Epoch 2/6\n",
      "\u001b[1m1000/1000\u001b[0m \u001b[32m━━━━━━━━━━━━━━━━━━━━\u001b[0m\u001b[37m\u001b[0m \u001b[1m1s\u001b[0m 704us/step - accuracy: 0.9139 - loss: 0.2447\n",
      "Epoch 3/6\n",
      "\u001b[1m1000/1000\u001b[0m \u001b[32m━━━━━━━━━━━━━━━━━━━━\u001b[0m\u001b[37m\u001b[0m \u001b[1m1s\u001b[0m 717us/step - accuracy: 0.9339 - loss: 0.1702\n",
      "Epoch 4/6\n",
      "\u001b[1m1000/1000\u001b[0m \u001b[32m━━━━━━━━━━━━━━━━━━━━\u001b[0m\u001b[37m\u001b[0m \u001b[1m1s\u001b[0m 689us/step - accuracy: 0.9403 - loss: 0.1482\n",
      "Epoch 5/6\n",
      "\u001b[1m1000/1000\u001b[0m \u001b[32m━━━━━━━━━━━━━━━━━━━━\u001b[0m\u001b[37m\u001b[0m \u001b[1m1s\u001b[0m 679us/step - accuracy: 0.9439 - loss: 0.1362\n",
      "Epoch 6/6\n",
      "\u001b[1m1000/1000\u001b[0m \u001b[32m━━━━━━━━━━━━━━━━━━━━\u001b[0m\u001b[37m\u001b[0m \u001b[1m1s\u001b[0m 692us/step - accuracy: 0.9495 - loss: 0.1232\n"
     ]
    },
    {
     "data": {
      "text/plain": [
       "<keras.src.callbacks.history.History at 0x1f0e41daea0>"
      ]
     },
     "execution_count": 21,
     "metadata": {},
     "output_type": "execute_result"
    }
   ],
   "source": [
    "network = models.Sequential([\n",
    "    layers.Dense(8, input_dim=5, activation='relu'),\n",
    "    layers.Dense(1, activation='sigmoid')\n",
    "])\n",
    "\n",
    "network.compile(optimizer='adam', loss='binary_crossentropy', metrics=['accuracy'])\n",
    "network.fit(X_train, y_train, epochs=6, batch_size=50)"
   ]
  },
  {
   "cell_type": "code",
   "execution_count": 22,
   "id": "98fafa69-c62b-48ad-905a-0f98cfea4783",
   "metadata": {},
   "outputs": [
    {
     "name": "stdout",
     "output_type": "stream",
     "text": [
      "\u001b[1m47/47\u001b[0m \u001b[32m━━━━━━━━━━━━━━━━━━━━\u001b[0m\u001b[37m\u001b[0m \u001b[1m0s\u001b[0m 674us/step - accuracy: 0.9591 - loss: 0.1145\n"
     ]
    }
   ],
   "source": [
    "test_loss, test_acc = network.evaluate(X_test, y_test)"
   ]
  },
  {
   "cell_type": "code",
   "execution_count": 23,
   "id": "71b563f0-364f-460d-bb40-4325b375469c",
   "metadata": {},
   "outputs": [],
   "source": [
    "network.save('my_model.keras')"
   ]
  },
  {
   "cell_type": "code",
   "execution_count": 24,
   "id": "b2e9f3cb-2975-4cd4-940b-c47b181afc23",
   "metadata": {},
   "outputs": [
    {
     "name": "stdout",
     "output_type": "stream",
     "text": [
      "\u001b[1m47/47\u001b[0m \u001b[32m━━━━━━━━━━━━━━━━━━━━\u001b[0m\u001b[37m\u001b[0m \u001b[1m0s\u001b[0m 1ms/step\n"
     ]
    },
    {
     "data": {
      "text/plain": [
       "array([[1.2086210e-07],\n",
       "       [5.3106462e-05],\n",
       "       [2.5963467e-01],\n",
       "       ...,\n",
       "       [9.9911296e-01],\n",
       "       [9.8477519e-01],\n",
       "       [7.5124652e-04]], dtype=float32)"
      ]
     },
     "execution_count": 24,
     "metadata": {},
     "output_type": "execute_result"
    }
   ],
   "source": [
    "predictions = network.predict(X_test)\n",
    "predictions"
   ]
  },
  {
   "cell_type": "code",
   "execution_count": 26,
   "id": "f6f82699-3bb8-4a18-ba57-87830f501503",
   "metadata": {},
   "outputs": [],
   "source": [
    "result = test_dataset\n",
    "result['accepted'] = np.round(predictions)"
   ]
  },
  {
   "cell_type": "code",
   "execution_count": 28,
   "id": "43a53379-85ad-4a16-806a-f2ce6ce7e56f",
   "metadata": {},
   "outputs": [],
   "source": [
    "result.to_excel('result.xlsx')"
   ]
  },
  {
   "cell_type": "code",
   "execution_count": null,
   "id": "bfd9bda3-f305-49df-b878-eb114d3fd5e1",
   "metadata": {},
   "outputs": [],
   "source": []
  }
 ],
 "metadata": {
  "kernelspec": {
   "display_name": "Python 3 (ipykernel)",
   "language": "python",
   "name": "python3"
  },
  "language_info": {
   "codemirror_mode": {
    "name": "ipython",
    "version": 3
   },
   "file_extension": ".py",
   "mimetype": "text/x-python",
   "name": "python",
   "nbconvert_exporter": "python",
   "pygments_lexer": "ipython3",
   "version": "3.12.1"
  }
 },
 "nbformat": 4,
 "nbformat_minor": 5
}
